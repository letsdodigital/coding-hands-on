{
 "cells": [
  {
   "cell_type": "markdown",
   "id": "88eba785-4523-4f00-a15b-c75e10fce1db",
   "metadata": {},
   "source": [
    "# Lesson 1\n",
    "\n",
    "1. Install the Python and Jupyter extensions on Codespace (or VS Code if you are using this instead).\n",
    "2. Follow the exercises below (exercises are within the html and python comments)."
   ]
  },
  {
   "cell_type": "markdown",
   "id": "bf30b9f5-69cb-4903-b9c3-31a55f06a622",
   "metadata": {},
   "source": [
    "Your markdown code will go here\n",
    "\n",
    "<!-- Turn this cell into the markdown format -->\n",
    "\n",
    "<!-- Add a title (level h1) of \"Here is a title\" -->\n",
    "# Here is a title\n",
    "\n",
    "<!-- Add a title (level h2) of \"Here is a sub-header\" -->\n",
    "## Here is a sub-header\n",
    "\n",
    "<!-- Add a sentence, using bold to highlight one word and italics to highlight another -->\n",
    "Hello there, **this** is a bold word and *this* is an italic word.\n",
    "\n",
    "<!-- Create a bullet point list -->\n",
    "- Heart\n",
    "- Bone\n",
    "- Leg\n",
    "\n",
    "<!-- Create a numbered list -->\n",
    "1. Sodium\n",
    "2. Potassium\n",
    "3. Calcium"
   ]
  },
  {
   "cell_type": "code",
   "execution_count": 1,
   "id": "c40ad810-06ef-44d2-a38e-6278053cbcfe",
   "metadata": {},
   "outputs": [
    {
     "name": "stdout",
     "output_type": "stream",
     "text": [
      "Health Informatics and data manipulation here we come!\n"
     ]
    }
   ],
   "source": [
    "# Find the file  'test_text.txt' in the current directory using Explorer on the left in Codespace / VS code\n",
    "\n",
    "# Open the file in read mode using a 'with' statement\n",
    "with open('test_text.txt', 'r') as file:\n",
    "    \n",
    "# Read the contents of the file and assign it to a variable\n",
    "    content = file.read()\n",
    "    \n",
    "# Print the contents of the file\n",
    "print(content)\n",
    "\n",
    "# Run this cell to see the output"
   ]
  }
 ],
 "metadata": {
  "kernelspec": {
   "display_name": ".venv",
   "language": "python",
   "name": "python3"
  },
  "language_info": {
   "codemirror_mode": {
    "name": "ipython",
    "version": 3
   },
   "file_extension": ".py",
   "mimetype": "text/x-python",
   "name": "python",
   "nbconvert_exporter": "python",
   "pygments_lexer": "ipython3",
   "version": "3.12.3"
  }
 },
 "nbformat": 4,
 "nbformat_minor": 5
}
