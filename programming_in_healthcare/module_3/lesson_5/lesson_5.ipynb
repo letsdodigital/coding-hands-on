{
 "cells": [
  {
   "cell_type": "markdown",
   "id": "6cc94525-3794-4f94-b9ed-a102fc9bef0d",
   "metadata": {},
   "source": [
    "# Lesson 5\n",
    "\n",
    "This lesson is for those that want to continue practicing further after the main lessons 1-4.\n",
    "\n",
    "Here we are going to study the kidney function data that you saw back in lesson 2. We will plot this data and then try and predict when the patient will need dialysis when they hit stage 5 kidney disease (GFR < 15). ESRD = end stage renal disease."
   ]
  },
  {
   "cell_type": "code",
   "execution_count": 1,
   "id": "8903978a-a88a-4756-8b86-d17698ba75d0",
   "metadata": {},
   "outputs": [],
   "source": [
    "# import the 'pandas' library as the alias 'pd'\n",
    "\n",
    "\n",
    "# import the 'matplotlib.pyplot' library as the alias 'plot'\n",
    "\n",
    "\n",
    "# Load kidney function data from the file 'kidney_function.csv'. Save as 'kidney_function_data'\n",
    "\n",
    "\n",
    "# Convert the Date column to the datetime format. You can do this with the 'pd.to_datetime()' function\n",
    "\n",
    "\n",
    "# Plot GFR over time using the plot(x-axis values, y-axis values) function\n",
    "\n",
    "\n",
    "# Show the plot\n"
   ]
  },
  {
   "cell_type": "markdown",
   "id": "8628e680",
   "metadata": {},
   "source": [
    "## Let's make it pretty\n",
    "\n",
    "Now let's make the plot a little more interesting by adding a title, labels for the x and y axes, and a legend."
   ]
  },
  {
   "cell_type": "code",
   "execution_count": 2,
   "id": "f5e3cd75",
   "metadata": {},
   "outputs": [],
   "source": [
    "# Import the 'matplotlib.dates' library as the alias 'mdates'\n",
    "\n",
    "\n",
    "# Copy the code from above minus the last lines with 'plot.plot()' and 'plot.show()'\n",
    "\n",
    "\n",
    "# Plot GFR over time using the plot(x-axis values, y-axis values) function.\n",
    "# Now, add a marker argument of 'o' and a label argument of 'GFR'\n",
    "# See https://matplotlib.org/stable/api/_as_gen/matplotlib.pyplot.plot.html for help.\n",
    "\n",
    "\n",
    "\n",
    "# Add a horizontal line at y=15 with a red dashed line style and a label of 'ESRD Threshold (GFR < 15)'\n",
    "# Try out the axhline function. Documentation for this function can be found at\n",
    "# https://matplotlib.org/stable/api/_as_gen/matplotlib.pyplot.axhline.html\n",
    "\n",
    "\n",
    "# Add a title to the plot\n",
    "\n",
    "\n",
    "# Add a label to the x-axis\n",
    "\n",
    "\n",
    "# Add a label to the y-axis\n",
    "\n",
    "\n",
    "# Set y-axis to start at 0 and end at the maximum GFR value + 5\n",
    "# See https://matplotlib.org/stable/api/_as_gen/matplotlib.pyplot.ylim.html\n",
    "\n",
    "\n",
    "# We have formatted the x-axis dates for you. Just uncomment the two lines below.\n",
    "# plot.gca().xaxis.set_major_formatter(mdates.DateFormatter('%b-%y'))\n",
    "# plot.gcf().autofmt_xdate()\n",
    "\n",
    "\n",
    "# Add a legend to the plot. 'legend()' should do the trick\n",
    "\n",
    "\n",
    "# Show the plot\n"
   ]
  },
  {
   "cell_type": "markdown",
   "id": "89c31a25",
   "metadata": {},
   "source": [
    "## Some linear regression\n",
    "\n",
    "The above plot should show you the decline in the kidney function over time. When the GFR is less than 15, then the patient is in End-stage kidney failure.\n",
    "\n",
    "The trend looks fairly linear. Let's work out the rate of decline with some simple linear regression."
   ]
  },
  {
   "cell_type": "code",
   "execution_count": 3,
   "id": "e07b9683-4434-4ea9-a613-3b41a3e11c88",
   "metadata": {},
   "outputs": [],
   "source": [
    "# Calculate the difference in GFR over time (rate of change). This can be done by taking the difference between consecutive GFR \n",
    "# values and dividing by the number of days between the two dates. You will need to use the 'diff()' function to calculate the\n",
    "# difference between consecutive GFR values. You will also need to use the 'dt.days' attribute to get the number of days between\n",
    "# the two dates. Save this as a new column 'GFR_change'.\n",
    "\n",
    "\n",
    "# Calculate the average rate of GFR decline per day. You can do this by using the 'mean()' function on the 'GFR_change' column.\n",
    "\n",
    "\n",
    "# Print the average rate of GFR decline per day\n"
   ]
  },
  {
   "cell_type": "markdown",
   "id": "add5ef96",
   "metadata": {},
   "source": [
    "## Predicting when dialysis is needed\n",
    "\n",
    "Now we can work out when dialysis is needed"
   ]
  },
  {
   "cell_type": "code",
   "execution_count": 4,
   "id": "7ef51293-7241-4aaf-b440-c5556ba083e8",
   "metadata": {},
   "outputs": [],
   "source": [
    "# Get the last value of GFR. You can get the last value of a column using the 'iloc' function with index -1, eg .iloc[-1].\n",
    "\n",
    "\n",
    "# Print the latest GFR value\n",
    "\n",
    "\n",
    "# Get the last date in the dataset\n",
    "\n",
    "\n",
    "# Print the last date in the dataset\n",
    "\n",
    "\n",
    "# Calculate days until GFR reaches 15. This one is a little tricky. You can calculate this by taking the difference between the\n",
    "# latest GFR value and 15, and then dividing by the average GFR decline per day. Save this as 'days_to_esrd'.\n",
    "\n",
    "\n",
    "# Print the number of days until ESRD\n",
    "\n",
    "\n",
    "# Predict the date when GFR will reach 15. You can do this by adding the number of days to the last known GFR date. You can use the\n",
    "# 'pd.to_timedelta()' function to convert the number of days to a timedelta object. You also need to state the unit of time as 'D'.\n",
    "\n",
    "\n",
    "# Format the predicted ESRD date as DD-MM-YYYY. Hint, use '.strftime('%d/%m/%Y')'\n",
    "\n",
    "\n",
    "# Print the predicted date for ESRD\n"
   ]
  },
  {
   "cell_type": "markdown",
   "id": "905bb8e6",
   "metadata": {},
   "source": [
    "## Plotting the prediction\n",
    "\n",
    "It would be nice to plot the prediction decline on a graph. \n",
    "\n",
    "We need to make some data points for this first."
   ]
  },
  {
   "cell_type": "code",
   "execution_count": 5,
   "id": "ab657f5d",
   "metadata": {},
   "outputs": [],
   "source": [
    "# Import the 'numpy' library as the alias 'np'\n",
    "\n",
    "\n",
    "# Create an array of future dates for extrapolation, starting from the latest date in the dataset and extending by the number of\n",
    "# days until ESRD. You can use the 'pd.date_range()' function for this. You will need to specify the 'start' date and the 'periods'\n",
    "# See https://pandas.pydata.org/docs/reference/api/pandas.date_range.html for documentation.\n",
    "\n",
    "\n",
    "# Print the future dates\n",
    "\n",
    "\n",
    "# Extrapolate GFR values based on the rate of decline\n",
    "\n",
    "\n",
    "# Print the future GFR values\n"
   ]
  },
  {
   "cell_type": "markdown",
   "id": "8d902a35",
   "metadata": {},
   "source": [
    "## Put it all together\n",
    "\n",
    "We are now going to put everything together in a single plot."
   ]
  },
  {
   "cell_type": "code",
   "execution_count": 6,
   "id": "97be10b9-74ee-429e-84aa-d53c0234fc2e",
   "metadata": {},
   "outputs": [],
   "source": [
    "# Copy the code from the last cell where you created a plot minus the last 'legend' and 'show' functions\n",
    "\n",
    "\n",
    "# Plot the GFR extrapolation. Use the linestyle '--' for a dashed line and set a label of 'GFR (Predicted)'.\n",
    "\n",
    "\n",
    "# Add a marker and annotation for the predicted ESRD date. You can use the 'scatter()' function to plot a point on the graph.\n",
    "# Set the colour to 'red' and the label to 'Predicted ESRD Date'.\n",
    "\n",
    "\n",
    "# Add an annotation for the predicted ESRD date. You can use the 'annotate()' function to add text to the plot.\n",
    "# See documentation at https://matplotlib.org/stable/api/_as_gen/matplotlib.pyplot.annotate.html.\n",
    "\n",
    "\n",
    "# Add a legend to the plot\n",
    "\n",
    "\n",
    "# Finally, show the plot\n"
   ]
  }
 ],
 "metadata": {
  "kernelspec": {
   "display_name": ".venv",
   "language": "python",
   "name": "python3"
  },
  "language_info": {
   "codemirror_mode": {
    "name": "ipython",
    "version": 3
   },
   "file_extension": ".py",
   "mimetype": "text/x-python",
   "name": "python",
   "nbconvert_exporter": "python",
   "pygments_lexer": "ipython3",
   "version": "3.12.3"
  }
 },
 "nbformat": 4,
 "nbformat_minor": 5
}
