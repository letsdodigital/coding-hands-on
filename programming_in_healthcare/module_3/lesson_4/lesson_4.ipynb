{
 "cells": [
  {
   "cell_type": "markdown",
   "id": "49c5b605-5e9c-42d0-81a3-a50c8d2039c3",
   "metadata": {},
   "source": [
    "# Lesson 4 - images\n",
    "Please follow the exercises below."
   ]
  },
  {
   "cell_type": "markdown",
   "id": "f2e72134-cd54-4bb2-be16-987a7defb130",
   "metadata": {},
   "source": [
    "## Exercise 1 - stretch and crop\n",
    "We need to look at a Hand X-ray. Let's open it, see if we can stretch it, and also zoom in on the thumb."
   ]
  },
  {
   "cell_type": "code",
   "execution_count": 1,
   "id": "547761de-7efa-4621-820e-ed2b2a2d3b50",
   "metadata": {},
   "outputs": [],
   "source": [
    "# Import the 'Image' module from 'PIL'\n",
    "\n",
    "\n",
    "# import the matplotlib module as plt\n",
    "\n",
    "\n",
    "# Open the image file 'hand-x-ray.jpg' using 'Image.open()' and store it in a variable called 'img'\n",
    "\n",
    "\n",
    "# Use imshow() to prepare the image for display\n",
    "\n",
    "\n",
    "# Show the image\n"
   ]
  },
  {
   "cell_type": "code",
   "execution_count": 2,
   "id": "5225e34f-1658-4182-b3fb-13ed6b578f78",
   "metadata": {},
   "outputs": [],
   "source": [
    "# Resize the image to a new width and height of 50 and 300 respectively\n",
    "\n",
    "\n",
    "# Use imshow() to prepare the image for display\n",
    "\n",
    "\n",
    "# Show the image\n"
   ]
  },
  {
   "cell_type": "code",
   "execution_count": 3,
   "id": "443d6e11-fd36-4cb9-bab1-bc0b9f6935ec",
   "metadata": {},
   "outputs": [],
   "source": [
    "# Define the cropping box to capture only the thumb \n",
    "# (a box with upper left of (3900, 2900) and bottom right of (6000, 5500) should work\n",
    "\n",
    "\n",
    "# Crop the image using 'crop()'\n",
    "\n",
    "\n",
    "# Use imshow() to prepare the image for display\n",
    "\n",
    "\n",
    "# Show the image\n"
   ]
  },
  {
   "cell_type": "markdown",
   "id": "b939464b-f1fa-4027-866b-b5e0517ee1a6",
   "metadata": {},
   "source": [
    "## Exercise 2 - rotate\n",
    "Unfortunately we have a rotated Chest X-ray. Let's fix it."
   ]
  },
  {
   "cell_type": "code",
   "execution_count": 4,
   "id": "87d298d2-3362-4eb8-96b6-83d55fdff839",
   "metadata": {},
   "outputs": [],
   "source": [
    "# Open the 'chest-x-ray.jpg' file as 'img_2'\n",
    "\n",
    "\n",
    "# Use imshow() to prepare the image for display\n",
    "\n",
    "\n",
    "# Show the image\n"
   ]
  },
  {
   "cell_type": "code",
   "execution_count": 5,
   "id": "64087e63-e8c7-461d-b17a-a3e506d2ea5f",
   "metadata": {},
   "outputs": [],
   "source": [
    "# Rotate the chest X-ray by 10 degrees\n",
    "\n",
    "\n",
    "# Use imshow() to prepare the image for display\n",
    "\n",
    "\n",
    "# Show the image\n"
   ]
  },
  {
   "cell_type": "markdown",
   "id": "d0910f65-1a47-4a86-b32c-4b2e7e3b3a01",
   "metadata": {},
   "source": [
    "## Exercise 3 - invert and change format\n",
    "Unfortunately, we have the negative of a teeth X-ray. We are going to convert it and save it in another format."
   ]
  },
  {
   "cell_type": "code",
   "execution_count": 6,
   "id": "1fb9e954-3cea-4152-a525-91bb156d1d1b",
   "metadata": {},
   "outputs": [],
   "source": [
    "# Import the 'ImageOps' module from 'PIL'\n",
    "\n",
    "\n",
    "# Open an image file 'teeth-x-ray.jpg' as 'img_3'\n",
    "\n",
    "\n",
    "# Use imshow() to prepare the image for display\n",
    "\n",
    "\n",
    "# Show the image\n"
   ]
  },
  {
   "cell_type": "code",
   "execution_count": 7,
   "id": "5692e8e8-3ab4-4ab3-b401-e5fc94c91f97",
   "metadata": {},
   "outputs": [],
   "source": [
    "# Invert the above image using 'ImageOps.invert()' and save it as 'inverted_img_3'\n",
    "\n",
    "\n",
    "# Use imshow() to prepare the image for display\n",
    "\n",
    "\n",
    "# Show the image\n"
   ]
  },
  {
   "cell_type": "code",
   "execution_count": 8,
   "id": "e29c36b7-e368-4b5b-b8ea-1dfae721f95b",
   "metadata": {},
   "outputs": [],
   "source": [
    "# Create a variable to store the filename of the new bmp file. The filename should be 'converted_image_3.bmp'\n",
    "\n",
    "\n",
    "# Save the inverted image as a bmp file\n",
    "\n",
    "\n",
    "# Open the new bmp file and store it as 'img_3_bmp'\n",
    "\n",
    "\n",
    "# Use imshow() to prepare the image for display\n",
    "\n",
    "\n",
    "# Show the image\n"
   ]
  }
 ],
 "metadata": {
  "kernelspec": {
   "display_name": ".venv",
   "language": "python",
   "name": "python3"
  },
  "language_info": {
   "codemirror_mode": {
    "name": "ipython",
    "version": 3
   },
   "file_extension": ".py",
   "mimetype": "text/x-python",
   "name": "python",
   "nbconvert_exporter": "python",
   "pygments_lexer": "ipython3",
   "version": "3.12.3"
  }
 },
 "nbformat": 4,
 "nbformat_minor": 5
}
