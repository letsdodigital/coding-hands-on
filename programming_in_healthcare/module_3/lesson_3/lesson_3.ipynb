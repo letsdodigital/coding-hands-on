{
 "cells": [
  {
   "cell_type": "markdown",
   "id": "88eba785-4523-4f00-a15b-c75e10fce1db",
   "metadata": {},
   "source": [
    "# Lesson 3\n",
    "\n",
    "Please follow the exercises below (exercises are within the python comments)"
   ]
  },
  {
   "cell_type": "code",
   "execution_count": null,
   "id": "e40b09a8-4eda-48e1-afce-d0121294dcf3",
   "metadata": {},
   "outputs": [],
   "source": [
    "import numpy as np\n",
    "\n",
    "array_1x7 = np.array([1, 2, 2, 4, 1, 1, 7])\n",
    "\n",
    "array_2x7 = np.array([[0, 2, 3, 4, 5, 6, 7],\n",
    "                      [8, 9, 10, 11, 12, 13, 13]])\n",
    "\n",
    "array_3D = np.array([[[0, 80, 2, 3, 4, 5, 6],\n",
    "                      [7, 8, 9, 10, 111, 12, 13]],\n",
    "                     [[1, 2, 3, 4, 5, 6, 7],\n",
    "                      [8, 9, 10, 11, 122, 13, 14]],\n",
    "                     [[15, 16, 17, 18, 19, 20, 21],\n",
    "                      [22, 23, 24, 25, 26, 27, 28]]])\n",
    "\n",
    "\n",
    "# Print out the values of array_1x7\n",
    "\n",
    "\n",
    "# Print out the values of array_2x7\n",
    "\n",
    "\n",
    "# Print out the values of array_3D\n"
   ]
  },
  {
   "cell_type": "markdown",
   "id": "80f7c359",
   "metadata": {},
   "source": [
    "## Plotting 1D data (Line plot)"
   ]
  },
  {
   "cell_type": "code",
   "execution_count": null,
   "id": "a6b8a08b-1d35-4ecf-9410-d7f3d0f0b616",
   "metadata": {},
   "outputs": [],
   "source": [
    "# Import the 'matplotlib' 'pyplot' module as the alias 'plot'\n",
    "\n",
    "\n",
    "# Plot the values of array_1x7 (this wont show the plot yet)\n",
    "\n",
    "\n",
    "# Display the plot\n"
   ]
  },
  {
   "cell_type": "code",
   "execution_count": null,
   "id": "ef702cef",
   "metadata": {},
   "outputs": [],
   "source": [
    "# Import the 'matplotlib' 'pyplot' module as the alias 'plot'\n",
    "\n",
    "\n",
    "# Plot the values of array_1x7 (this wont show the plot yet)\n",
    "\n",
    "\n",
    "# Set the title of the plot\n",
    "\n",
    "\n",
    "# Set the x-axis label of the plot\n",
    "\n",
    "\n",
    "# Set the y-axis label of the plot\n",
    "\n",
    "\n",
    "# Display the plot\n"
   ]
  },
  {
   "cell_type": "markdown",
   "id": "82d42ea4",
   "metadata": {},
   "source": [
    "## Plotting 2D data (Heatmaps)"
   ]
  },
  {
   "cell_type": "code",
   "execution_count": null,
   "id": "fec6aa87-7602-4e0c-8b8c-8fbc40e7ceb7",
   "metadata": {},
   "outputs": [],
   "source": [
    "# Use the 'imshow' function to plot the values of array_2x7\n",
    "\n",
    "\n",
    "# Display the plot\n"
   ]
  },
  {
   "cell_type": "code",
   "execution_count": null,
   "id": "a3be6320",
   "metadata": {},
   "outputs": [],
   "source": [
    "# Use the 'imshow' function to plot the values of array_2x7\n",
    "# Set the colormap to 'viridis' and aspect ratio to 'auto'\n",
    "\n",
    "\n",
    "# Add a colorbar to the plot (this makes it easier to interpret the colours)\n",
    "\n",
    "\n",
    "# Set the title of the plot\n",
    "\n",
    "\n",
    "# Set the origin of the y-axis to the first element of shape\n",
    "\n",
    "\n",
    "# Set the x-axis label of the plot\n",
    "\n",
    "\n",
    "# Set the y-axis label of the plot\n",
    "\n",
    "\n",
    "# Display the plot\n"
   ]
  },
  {
   "cell_type": "markdown",
   "id": "cdee5d6c",
   "metadata": {},
   "source": [
    "## Plotting 3D data (3D scatter plot)"
   ]
  },
  {
   "cell_type": "code",
   "execution_count": null,
   "id": "824b3810-39ad-498b-bf3e-6293574a2c25",
   "metadata": {},
   "outputs": [],
   "source": [
    "# Create a figure\n",
    "\n",
    "\n",
    "# Create a 3D axis\n",
    "\n",
    "\n",
    "# Get the indices and values for each element in the 3D array\n",
    "\n",
    "\n",
    "# Flatten the 3D array to a 1D array\n",
    "\n",
    "\n",
    "# Plot the points in 3D space\n",
    "\n",
    "\n",
    "# Show the plot\n"
   ]
  },
  {
   "cell_type": "code",
   "execution_count": null,
   "id": "5eeb3965",
   "metadata": {},
   "outputs": [],
   "source": [
    "# Create a figure\n",
    "\n",
    "\n",
    "# Create a 3D axis\n",
    "\n",
    "\n",
    "# Get the indices and values for each element in the 3D array\n",
    "\n",
    "\n",
    "# Flatten the 3D array to a 1D array\n",
    "\n",
    "\n",
    "# Plot the points in 3D space\n",
    "\n",
    "\n",
    "# Create the colour bar\n",
    "\n",
    "\n",
    "# Set the title\n",
    "\n",
    "\n",
    "# Set the x-axis labels\n",
    "\n",
    "\n",
    "# Set the y-axis labels\n",
    "\n",
    "\n",
    "# Set the z-axis labels\n",
    "\n",
    "\n",
    "# Set the x-axis ticks\n",
    "\n",
    "\n",
    "# Set the y-axis ticks\n",
    "\n",
    "\n",
    "# Show the plot\n"
   ]
  }
 ],
 "metadata": {
  "kernelspec": {
   "display_name": ".venv",
   "language": "python",
   "name": "python3"
  },
  "language_info": {
   "codemirror_mode": {
    "name": "ipython",
    "version": 3
   },
   "file_extension": ".py",
   "mimetype": "text/x-python",
   "name": "python",
   "nbconvert_exporter": "python",
   "pygments_lexer": "ipython3",
   "version": "3.12.3"
  }
 },
 "nbformat": 4,
 "nbformat_minor": 5
}
