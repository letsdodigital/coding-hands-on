{
 "cells": [
  {
   "cell_type": "markdown",
   "id": "88eba785-4523-4f00-a15b-c75e10fce1db",
   "metadata": {},
   "source": [
    "# Lesson 2\n",
    "\n",
    "Please follow the exercises below (exercises are within the python comments)\n",
    "\n",
    "## Pandas"
   ]
  },
  {
   "cell_type": "code",
   "execution_count": 2,
   "id": "2a5ea4d3-3104-48fb-b087-dc1c342e4c87",
   "metadata": {},
   "outputs": [
    {
     "name": "stdout",
     "output_type": "stream",
     "text": [
      "    Patient_ID        Date  GFR (mL/min)  Creatinine (mg/dL)  Urea (mg/dL)  \\\n",
      "0            1  2022-01-01            60                 1.1            30   \n",
      "1            1  2022-02-01            58                 1.2            32   \n",
      "2            1  2022-03-01            55                 1.3            34   \n",
      "3            1  2022-04-01            52                 1.4            36   \n",
      "4            1  2022-05-01            50                 1.4            38   \n",
      "5            1  2022-06-01            45                 1.5            40   \n",
      "6            1  2022-07-01            40                 1.6            45   \n",
      "7            1  2022-08-01            35                 1.7            48   \n",
      "8            1  2022-09-01            32                 1.9            50   \n",
      "9            1  2022-10-01            30                 2.0            55   \n",
      "10           1  2022-11-01            28                 2.1            58   \n",
      "11           1  2022-12-01            26                 2.2            60   \n",
      "\n",
      "    Stage  \n",
      "0       2  \n",
      "1       2  \n",
      "2       2  \n",
      "3       2  \n",
      "4       3  \n",
      "5       3  \n",
      "6       3  \n",
      "7       4  \n",
      "8       4  \n",
      "9       4  \n",
      "10      4  \n",
      "11      4  \n"
     ]
    }
   ],
   "source": [
    "# import  the 'panda' module as the alias 'pd'\n",
    "import pandas as pd\n",
    "\n",
    "# Read the CSV file 'kidney_function.csv' into a DataFrame called 'df'\n",
    "df = pd.read_csv('kidney_function.csv')\n",
    "\n",
    "# Print the DataFrame\n",
    "print(df)"
   ]
  },
  {
   "cell_type": "code",
   "execution_count": 3,
   "id": "79e4ae25",
   "metadata": {},
   "outputs": [
    {
     "name": "stdout",
     "output_type": "stream",
     "text": [
      "    Patient_ID        Date  GFR (mL/min)  Creatinine (mg/dL)  Urea (mg/dL)  \\\n",
      "0            1  2022-01-01            60                 1.1            30   \n",
      "1            1  2022-02-01            58                 1.2            32   \n",
      "2            1  2022-03-01            55                 1.3            34   \n",
      "3            1  2022-04-01            52                 1.4            36   \n",
      "4            1  2022-05-01            50                 1.4            38   \n",
      "5            1  2022-06-01            45                 1.5            40   \n",
      "6            1  2022-07-01            40                 1.6            45   \n",
      "7            1  2022-08-01            35                 1.7            48   \n",
      "8            1  2022-09-01            32                 1.9            50   \n",
      "9            1  2022-10-01            30                 2.0            55   \n",
      "10           1  2022-11-01            28                 2.1            58   \n",
      "11           1  2022-12-01            26                 2.2            60   \n",
      "\n",
      "    Stage  \n",
      "0       2  \n",
      "1       2  \n",
      "2       2  \n",
      "3       2  \n",
      "4       3  \n",
      "5       3  \n",
      "6       3  \n",
      "7       4  \n",
      "8       4  \n",
      "9       4  \n",
      "10      4  \n",
      "11      5  \n"
     ]
    }
   ],
   "source": [
    "# Update the 'Stage' field for the entry with 'Date' '2022-12-01' to 5\n",
    "df.loc[df['Date'] == '2022-12-01', 'Stage'] = 5\n",
    "\n",
    "# Print the updated DataFrame to verify the change\n",
    "print(df)"
   ]
  },
  {
   "cell_type": "code",
   "execution_count": 4,
   "id": "cc33c2e3",
   "metadata": {},
   "outputs": [
    {
     "name": "stdout",
     "output_type": "stream",
     "text": [
      "   Patient_ID     Name  Age  Gender      Diagnosis Blood Pressure  \\\n",
      "0           1    Alice   45  Female   Hypertension         140/90   \n",
      "1           2      Bob   55    Male       Diabetes         130/85   \n",
      "2           3  Charlie   65    Male   Hypertension         150/95   \n",
      "3           4    David   70    Male  Heart Disease        160/100   \n",
      "4           5      Eva   50  Female   Hypertension         135/88   \n",
      "5           5     John   55    Male   Hypertension         137/98   \n",
      "\n",
      "   Cholesterol  Glucose Level    Outcome  \n",
      "0          200             90  Recovered  \n",
      "1          180            150   Unstable  \n",
      "2          220            100     Stable  \n",
      "3          240            110  Recovered  \n",
      "4          210             95   Unstable  \n",
      "5          200             98   Unstable  \n"
     ]
    }
   ],
   "source": [
    "# Load data from the 'patient_data.csv' into a few DataFrame called 'df_2'\n",
    "df_2 = pd.read_csv('patient_data.csv')\n",
    "\n",
    "# Print the df_2 DataFrame\n",
    "print(df_2)"
   ]
  },
  {
   "cell_type": "code",
   "execution_count": 5,
   "id": "2a4b3c86",
   "metadata": {},
   "outputs": [
    {
     "name": "stdout",
     "output_type": "stream",
     "text": [
      "   Patient_ID     Name  Age Gender      Diagnosis Blood Pressure  Cholesterol  \\\n",
      "2           3  Charlie   65   Male   Hypertension         150/95          220   \n",
      "3           4    David   70   Male  Heart Disease        160/100          240   \n",
      "\n",
      "   Glucose Level    Outcome  \n",
      "2            100     Stable  \n",
      "3            110  Recovered  \n"
     ]
    }
   ],
   "source": [
    "# Filter the df_2 DataFrame for all ages over 55\n",
    "df_2_over_55 = df_2[df_2['Age'] > 55]\n",
    "\n",
    "# Print the filtered DataFrame\n",
    "print(df_2_over_55)"
   ]
  },
  {
   "cell_type": "code",
   "execution_count": 6,
   "id": "d20a1dec",
   "metadata": {},
   "outputs": [
    {
     "name": "stdout",
     "output_type": "stream",
     "text": [
      "       Patient_ID        Age  Cholesterol  Glucose Level\n",
      "count    6.000000   6.000000     6.000000       6.000000\n",
      "mean     3.333333  56.666667   208.333333     107.166667\n",
      "std      1.632993   9.309493    20.412415      22.003788\n",
      "min      1.000000  45.000000   180.000000      90.000000\n",
      "25%      2.250000  51.250000   200.000000      95.750000\n",
      "50%      3.500000  55.000000   205.000000      99.000000\n",
      "75%      4.750000  62.500000   217.500000     107.500000\n",
      "max      5.000000  70.000000   240.000000     150.000000\n"
     ]
    }
   ],
   "source": [
    "# Print out some basic statistics about the df_2 DataFrame using the 'describe()' method.\n",
    "print(df_2.describe())"
   ]
  },
  {
   "cell_type": "markdown",
   "id": "fe90912f",
   "metadata": {},
   "source": [
    "## Numpy"
   ]
  },
  {
   "cell_type": "code",
   "execution_count": 7,
   "id": "e40b09a8-4eda-48e1-afce-d0121294dcf3",
   "metadata": {},
   "outputs": [
    {
     "name": "stdout",
     "output_type": "stream",
     "text": [
      "[1 2 2 4 1 1 7]\n"
     ]
    }
   ],
   "source": [
    "# import the 'numpy' module as the alias 'np'\n",
    "import numpy as np\n",
    "\n",
    "# Create a 1x7 array with random numbers. Call the array 'array_1x7'\n",
    "array_1x7 = np.array([1, 2, 2, 4, 1, 1, 7])\n",
    "\n",
    "# Print the contents of the above array\n",
    "print(array_1x7)"
   ]
  },
  {
   "cell_type": "code",
   "execution_count": 8,
   "id": "d243da53-9e00-4715-960f-eb11b13d74ba",
   "metadata": {},
   "outputs": [
    {
     "name": "stdout",
     "output_type": "stream",
     "text": [
      "(7,)\n"
     ]
    }
   ],
   "source": [
    "# Print the shape of the array_1x7 array\n",
    "print(array_1x7.shape)"
   ]
  },
  {
   "cell_type": "code",
   "execution_count": 9,
   "id": "66db9096",
   "metadata": {},
   "outputs": [
    {
     "name": "stdout",
     "output_type": "stream",
     "text": [
      "[1 3 2 4 1 1 7]\n"
     ]
    }
   ],
   "source": [
    "# Update the second element of the array_1x7 array to 3. Remember that indexing starts at 0.\n",
    "array_1x7[1] = 3\n",
    "\n",
    "# Print the updated array\n",
    "print(array_1x7)"
   ]
  },
  {
   "cell_type": "code",
   "execution_count": 10,
   "id": "f6e31d8a-1dda-45b2-9b10-15a2343d7f6d",
   "metadata": {},
   "outputs": [
    {
     "name": "stdout",
     "output_type": "stream",
     "text": [
      "[[ 1  2  3  4  5  6  7]\n",
      " [ 8  9 10 11 12 13 14]]\n"
     ]
    }
   ],
   "source": [
    "# Creating a 2x7 array with random numbers. Call the array 'array_2x7'\n",
    "array_2x7 = np.array([[1, 2, 3, 4, 5, 6, 7],\n",
    "                      [8, 9, 10, 11, 12, 13, 14]])\n",
    "\n",
    "# Print the contents of the array\n",
    "print(array_2x7)"
   ]
  },
  {
   "cell_type": "code",
   "execution_count": 11,
   "id": "3c5b392c-d27c-4ce6-9145-75db09d021a5",
   "metadata": {},
   "outputs": [
    {
     "name": "stdout",
     "output_type": "stream",
     "text": [
      "(2, 7)\n"
     ]
    }
   ],
   "source": [
    "# Print the shape of the array 'array_2x7'\n",
    "print(array_2x7.shape)"
   ]
  },
  {
   "cell_type": "code",
   "execution_count": 12,
   "id": "a3081e99",
   "metadata": {},
   "outputs": [
    {
     "name": "stdout",
     "output_type": "stream",
     "text": [
      "[[ 1  2  3  4  5  6  7]\n",
      " [ 8  9 10 11 12 13  0]]\n"
     ]
    }
   ],
   "source": [
    "# Update the element in the last row and column of the 'array_2x7' array to 0.\n",
    "array_2x7[1, 6] = 0\n",
    "\n",
    "# Print the updated array\n",
    "print(array_2x7)"
   ]
  },
  {
   "cell_type": "code",
   "execution_count": 13,
   "id": "207d3d51-b941-48fd-8329-240e6ac94494",
   "metadata": {},
   "outputs": [
    {
     "name": "stdout",
     "output_type": "stream",
     "text": [
      "[[[ 1  2  3  4  5  6  7]\n",
      "  [ 8  9 10 11 12 13 14]]\n",
      "\n",
      " [[15 16 17 18 19 20 21]\n",
      "  [22 23 24 25 26 27 28]]]\n"
     ]
    }
   ],
   "source": [
    "# Creating a 2x2x7 3D array with random numbers. Call the array 'array_3D'.\n",
    "array_3D = np.array([[[1, 2, 3, 4, 5, 6, 7],\n",
    "                      [8, 9, 10, 11, 12, 13, 14]],\n",
    "                     [[15, 16, 17, 18, 19, 20, 21],\n",
    "                      [22, 23, 24, 25, 26, 27, 28]]])\n",
    "\n",
    "# Print the contents of the array\n",
    "print(array_3D)"
   ]
  },
  {
   "cell_type": "code",
   "execution_count": 14,
   "id": "634f6472-8cbf-4a01-a804-b14c8ddc383f",
   "metadata": {},
   "outputs": [
    {
     "data": {
      "text/plain": [
       "(2, 2, 7)"
      ]
     },
     "execution_count": 14,
     "metadata": {},
     "output_type": "execute_result"
    }
   ],
   "source": [
    "# Print the shape of the 3D array\n",
    "array_3D.shape"
   ]
  },
  {
   "cell_type": "code",
   "execution_count": 15,
   "id": "6258ceb0",
   "metadata": {},
   "outputs": [
    {
     "name": "stdout",
     "output_type": "stream",
     "text": [
      "[[[   1    2    3    4    5    6    7]\n",
      "  [1111    9   10   11   12   13   14]]\n",
      "\n",
      " [[  15   16   17   18   19   20   21]\n",
      "  [  22   23   24   25   26   27   28]]]\n"
     ]
    }
   ],
   "source": [
    "# Update the element in the first row, second column, and first depth of the 'array_3D' array to 1111.\n",
    "array_3D[0, 1, 0] = 1111\n",
    "\n",
    "# Print the updated array\n",
    "print(array_3D)"
   ]
  },
  {
   "cell_type": "markdown",
   "id": "bf99bf00",
   "metadata": {},
   "source": [
    "## Scipy"
   ]
  },
  {
   "cell_type": "code",
   "execution_count": 16,
   "id": "344c9660-617a-4fa5-9da8-aa2b30758cd0",
   "metadata": {},
   "outputs": [
    {
     "name": "stdout",
     "output_type": "stream",
     "text": [
      "   Patient_ID     Name  Age  Gender      Diagnosis Blood Pressure  \\\n",
      "0           1    Alice   45  Female   Hypertension         140/90   \n",
      "1           2      Bob   55    Male       Diabetes         130/85   \n",
      "2           3  Charlie   65    Male   Hypertension         150/95   \n",
      "3           4    David   70    Male  Heart Disease        160/100   \n",
      "4           5      Eva   50  Female   Hypertension         135/88   \n",
      "5           5     John   55    Male   Hypertension         137/98   \n",
      "\n",
      "   Cholesterol  Glucose Level    Outcome  \n",
      "0          200             90  Recovered  \n",
      "1          180            150   Unstable  \n",
      "2          220            100     Stable  \n",
      "3          240            110  Recovered  \n",
      "4          210             95   Unstable  \n",
      "5          200             98   Unstable  \n"
     ]
    }
   ],
   "source": [
    "# Import scipy's 'stats' module\n",
    "from scipy import stats\n",
    "\n",
    "# You will be working again on the 'df_2' DataFrame. Print the DataFrame to remind yourself of the data.\n",
    "print(df_2)"
   ]
  },
  {
   "cell_type": "code",
   "execution_count": 17,
   "id": "86bfcaeb",
   "metadata": {},
   "outputs": [
    {
     "name": "stdout",
     "output_type": "stream",
     "text": [
      "Hypertension group:\n",
      "0    200\n",
      "2    220\n",
      "4    210\n",
      "5    200\n",
      "Name: Cholesterol, dtype: int64\n",
      "\n",
      "Non-hypertension group:\n",
      "1    180\n",
      "3    240\n",
      "Name: Cholesterol, dtype: int64\n"
     ]
    }
   ],
   "source": [
    "# Split the data into two groups: hypertension and non_hypertension\n",
    "# Create two new dataframes called 'hypertension' and 'non_hypertension', \n",
    "# containing only cholesterol data.\n",
    "hypertension = df_2[df_2['Diagnosis'] == 'Hypertension']['Cholesterol']\n",
    "\n",
    "non_hypertension = df_2[df_2['Diagnosis'] != 'Hypertension']['Cholesterol']\n",
    "\n",
    "# Print the hypertension group\n",
    "print(f\"Hypertension group:\\n{hypertension}\\n\")\n",
    "\n",
    "# Print the non-hypertension group\n",
    "print(f\"Non-hypertension group:\\n{non_hypertension}\")"
   ]
  },
  {
   "cell_type": "code",
   "execution_count": 18,
   "id": "1981b2b6",
   "metadata": {},
   "outputs": [
    {
     "name": "stdout",
     "output_type": "stream",
     "text": [
      "t-score: -0.127\n",
      "p-value: 0.905\n"
     ]
    }
   ],
   "source": [
    "# Perform a t-test to compare the cholesterol levels between the hypertension and non-hypertension groups\n",
    "t_score, p_value = stats.ttest_ind(hypertension, non_hypertension)\n",
    "\n",
    "# Print the t-score\n",
    "print(f\"t-score: {round(t_score, 3)}\")\n",
    "\n",
    "# Print the p-value\n",
    "print(f\"p-value: {round(p_value, 3)}\")"
   ]
  },
  {
   "cell_type": "code",
   "execution_count": 19,
   "id": "89c2c950",
   "metadata": {},
   "outputs": [
    {
     "name": "stdout",
     "output_type": "stream",
     "text": [
      "These values are not significantly different.\n",
      "This is because the t-score is less than 1 and the p-value is greater than 0.05.\n"
     ]
    }
   ],
   "source": [
    "# Are these two groups significantly different? Print your answer with an explanation.\n",
    "print(\"These values are not significantly different.\")\n",
    "print(\"This is because the t-score is less than 1 and the p-value is greater than 0.05.\")"
   ]
  }
 ],
 "metadata": {
  "kernelspec": {
   "display_name": ".venv",
   "language": "python",
   "name": "python3"
  },
  "language_info": {
   "codemirror_mode": {
    "name": "ipython",
    "version": 3
   },
   "file_extension": ".py",
   "mimetype": "text/x-python",
   "name": "python",
   "nbconvert_exporter": "python",
   "pygments_lexer": "ipython3",
   "version": "3.12.3"
  }
 },
 "nbformat": 4,
 "nbformat_minor": 5
}
