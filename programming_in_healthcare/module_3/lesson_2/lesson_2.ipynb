{
 "cells": [
  {
   "cell_type": "markdown",
   "id": "88eba785-4523-4f00-a15b-c75e10fce1db",
   "metadata": {},
   "source": [
    "# Lesson 2\n",
    "\n",
    "Please follow the exercises below (exercises are within the python comments)\n",
    "\n",
    "## Pandas"
   ]
  },
  {
   "cell_type": "code",
   "execution_count": null,
   "id": "2a5ea4d3-3104-48fb-b087-dc1c342e4c87",
   "metadata": {},
   "outputs": [],
   "source": [
    "# import  the 'panda' module as the alias 'pd'\n",
    "\n",
    "\n",
    "# Read the CSV file 'kidney_function.csv' into a DataFrame called 'df'\n",
    "\n",
    "\n",
    "# Print the DataFrame\n"
   ]
  },
  {
   "cell_type": "code",
   "execution_count": null,
   "id": "79e4ae25",
   "metadata": {},
   "outputs": [],
   "source": [
    "# Update the 'Stage' field for the entry with 'Date' '2022-12-01' to 5\n",
    "\n",
    "\n",
    "# Print the updated DataFrame to verify the change\n"
   ]
  },
  {
   "cell_type": "code",
   "execution_count": null,
   "id": "cc33c2e3",
   "metadata": {},
   "outputs": [],
   "source": [
    "# Load data from the 'patient_data.csv' into a few DataFrame called 'df_2'\n",
    "\n",
    "\n",
    "# Print the df_2 DataFrame\n"
   ]
  },
  {
   "cell_type": "code",
   "execution_count": null,
   "id": "2a4b3c86",
   "metadata": {},
   "outputs": [],
   "source": [
    "# Filter the df_2 DataFrame for all ages over 55\n",
    "\n",
    "\n",
    "# Print the filtered DataFrame\n"
   ]
  },
  {
   "cell_type": "code",
   "execution_count": null,
   "id": "d20a1dec",
   "metadata": {},
   "outputs": [],
   "source": [
    "# Print out some basic statistics about the df_2 DataFrame using the 'describe()' method\n"
   ]
  },
  {
   "cell_type": "markdown",
   "id": "fe90912f",
   "metadata": {},
   "source": [
    "## Numpy"
   ]
  },
  {
   "cell_type": "code",
   "execution_count": null,
   "id": "e40b09a8-4eda-48e1-afce-d0121294dcf3",
   "metadata": {},
   "outputs": [],
   "source": [
    "# import the 'numpy' module as the alias 'np'\n",
    "\n",
    "\n",
    "# Create a 1x7 array with random numbers. Call the array 'array_1x7'\n",
    "\n",
    "\n",
    "# Print the contents of the above array\n"
   ]
  },
  {
   "cell_type": "code",
   "execution_count": null,
   "id": "d243da53-9e00-4715-960f-eb11b13d74ba",
   "metadata": {},
   "outputs": [],
   "source": [
    "# Print the shape of the array_1x7 array\n"
   ]
  },
  {
   "cell_type": "code",
   "execution_count": null,
   "id": "66db9096",
   "metadata": {},
   "outputs": [],
   "source": [
    "# Update the second element of the array_1x7 array to 3. Remember that indexing starts at 0\n",
    "\n",
    "\n",
    "# Print the updated array\n"
   ]
  },
  {
   "cell_type": "code",
   "execution_count": null,
   "id": "f6e31d8a-1dda-45b2-9b10-15a2343d7f6d",
   "metadata": {},
   "outputs": [],
   "source": [
    "# Creating a 2x7 array with random numbers. Call the array 'array_2x7'\n",
    "\n",
    "\n",
    "# Print the contents of the array\n"
   ]
  },
  {
   "cell_type": "code",
   "execution_count": null,
   "id": "3c5b392c-d27c-4ce6-9145-75db09d021a5",
   "metadata": {},
   "outputs": [],
   "source": [
    "# Print the shape of the array 'array_2x7'\n"
   ]
  },
  {
   "cell_type": "code",
   "execution_count": null,
   "id": "a3081e99",
   "metadata": {},
   "outputs": [],
   "source": [
    "# Update the element in the last row and column of the 'array_2x7' array to 0\n",
    "\n",
    "\n",
    "# Print the updated array\n"
   ]
  },
  {
   "cell_type": "code",
   "execution_count": null,
   "id": "207d3d51-b941-48fd-8329-240e6ac94494",
   "metadata": {},
   "outputs": [],
   "source": [
    "# Creating a 2x2x7 3D array with random numbers. Call the array 'array_3D'\n",
    "\n",
    "\n",
    "# Print the contents of the array\n"
   ]
  },
  {
   "cell_type": "code",
   "execution_count": null,
   "id": "634f6472-8cbf-4a01-a804-b14c8ddc383f",
   "metadata": {},
   "outputs": [],
   "source": [
    "# Print the shape of the 3D array\n"
   ]
  },
  {
   "cell_type": "code",
   "execution_count": null,
   "id": "6258ceb0",
   "metadata": {},
   "outputs": [],
   "source": [
    "# Update the element in the first row, second column, and first depth of the 'array_3D' array to 1111\n",
    "\n",
    "\n",
    "# Print the updated array\n"
   ]
  },
  {
   "cell_type": "markdown",
   "id": "bf99bf00",
   "metadata": {},
   "source": [
    "## Scipy"
   ]
  },
  {
   "cell_type": "code",
   "execution_count": null,
   "id": "344c9660-617a-4fa5-9da8-aa2b30758cd0",
   "metadata": {},
   "outputs": [],
   "source": [
    "# Import scipy's 'stats' module\n",
    "\n",
    "\n",
    "# You will be working again on the 'df_2' DataFrame. Print the DataFrame to remind yourself of the data\n"
   ]
  },
  {
   "cell_type": "code",
   "execution_count": null,
   "id": "86bfcaeb",
   "metadata": {},
   "outputs": [],
   "source": [
    "# Split the data into two groups: hypertension and non_hypertension\n",
    "# Create two new dataframes called 'hypertension' and 'non_hypertension', \n",
    "# containing only cholesterol data.\n",
    "\n",
    "# Print the hypertension group\n",
    "\n",
    "\n",
    "# Print the non-hypertension group\n"
   ]
  },
  {
   "cell_type": "code",
   "execution_count": null,
   "id": "1981b2b6",
   "metadata": {},
   "outputs": [],
   "source": [
    "# Perform a t-test to compare the cholesterol levels between the hypertension and non-hypertension groups\n",
    "# You will receive two values: the t-score and the p-value. Save them in the variables named\n",
    "# 't_score' and 'p_value'\n",
    "\n",
    "\n",
    "# Print the t-score\n",
    "\n",
    "\n",
    "# Print the p-value\n"
   ]
  },
  {
   "cell_type": "code",
   "execution_count": null,
   "id": "f8564fe6",
   "metadata": {},
   "outputs": [],
   "source": [
    "# Are these two groups significantly different? Print your answer with an explanation."
   ]
  }
 ],
 "metadata": {
  "kernelspec": {
   "display_name": ".venv",
   "language": "python",
   "name": "python3"
  },
  "language_info": {
   "codemirror_mode": {
    "name": "ipython",
    "version": 3
   },
   "file_extension": ".py",
   "mimetype": "text/x-python",
   "name": "python",
   "nbconvert_exporter": "python",
   "pygments_lexer": "ipython3",
   "version": "3.12.3"
  }
 },
 "nbformat": 4,
 "nbformat_minor": 5
}
