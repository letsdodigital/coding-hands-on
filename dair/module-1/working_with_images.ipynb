{
 "cells": [
  {
   "cell_type": "markdown",
   "metadata": {},
   "source": [
    "# Workshop - Working with images in Python\n",
    "\n",
    "Hello all - **welcome to the first module of the DAIM (Imaging) course!** We hope you learn lots during this course, and please contact one of the course leads if you have any questions or feedback."
   ]
  },
  {
   "cell_type": "markdown",
   "metadata": {},
   "source": [
    "## Section 1 - Opening and modifying an image"
   ]
  },
  {
   "cell_type": "markdown",
   "metadata": {},
   "source": [
    "### Exercise 1\n",
    "\n",
    "Let's start by opening an image. Import the PIL library, open `\"tower.png\"`, and display the image. Use [this resource](https://pillow.readthedocs.io/en/stable/handbook/tutorial.html) or the Section 1 seminar slides to help you."
   ]
  },
  {
   "cell_type": "code",
   "execution_count": null,
   "metadata": {},
   "outputs": [],
   "source": [
    "# Type your code here..."
   ]
  },
  {
   "cell_type": "markdown",
   "metadata": {},
   "source": [
    "### Solution 1"
   ]
  },
  {
   "cell_type": "code",
   "execution_count": 15,
   "metadata": {},
   "outputs": [],
   "source": [
    "#@title\n",
    "from PIL import Image\n",
    "im = Image.open(\"./tower.jpeg\")\n",
    "im.show()"
   ]
  },
  {
   "cell_type": "markdown",
   "metadata": {},
   "source": [
    "The `im.show()` method is an easy way to inspect images when working with them in Python. "
   ]
  },
  {
   "cell_type": "markdown",
   "metadata": {},
   "source": [
    "PIL can also do basic image manipulations, such as cropping, rotating, and downscaling."
   ]
  },
  {
   "cell_type": "markdown",
   "metadata": {},
   "source": [
    "### Exercise 2 - Resizing an image\n",
    "\n",
    "Get the current size of the image using the `im.size` property and reduce the size of the image by half using the `.resize()` method. Look this up online if you are unsure how to use it. *Hint: use the `//` (floor division) operator...*\n"
   ]
  },
  {
   "cell_type": "code",
   "execution_count": null,
   "metadata": {},
   "outputs": [],
   "source": [
    "# Type your code here..."
   ]
  },
  {
   "cell_type": "markdown",
   "metadata": {},
   "source": [
    "### Solution 2"
   ]
  },
  {
   "cell_type": "code",
   "execution_count": 16,
   "metadata": {},
   "outputs": [],
   "source": [
    "#@title\n",
    "# Get current size and divide it by two\n",
    "width, height = im.size\n",
    "new_size = (width // 2, height // 2)\n",
    "\n",
    "im = im.resize(new_size)\n",
    "im.show()"
   ]
  },
  {
   "cell_type": "markdown",
   "metadata": {},
   "source": [
    "If you print the new size of the image..."
   ]
  },
  {
   "cell_type": "code",
   "execution_count": 14,
   "metadata": {},
   "outputs": [
    {
     "name": "stdout",
     "output_type": "stream",
     "text": [
      "(100, 100)\n"
     ]
    }
   ],
   "source": [
    "print(im.size)"
   ]
  },
  {
   "cell_type": "markdown",
   "metadata": {},
   "source": [
    "...you'll see that the dimensions of the image have reduced by half."
   ]
  },
  {
   "cell_type": "markdown",
   "metadata": {},
   "source": [
    "### Exercise 3 - Rotating images\n",
    "\n",
    "Rotate this modified image so that it is upside down and save it as a new image called `modified_im`, then display the image. [This documentation is useful](https://pillow.readthedocs.io/en/stable/reference/Image.html)."
   ]
  },
  {
   "cell_type": "code",
   "execution_count": null,
   "metadata": {},
   "outputs": [],
   "source": [
    "# Type your code here..."
   ]
  },
  {
   "cell_type": "markdown",
   "metadata": {},
   "source": [
    "### Solution"
   ]
  },
  {
   "cell_type": "code",
   "execution_count": 19,
   "metadata": {},
   "outputs": [],
   "source": [
    "#@title\n",
    "\n",
    "im_rotated = im.rotate(180)\n",
    "im_rotated.show()"
   ]
  },
  {
   "cell_type": "markdown",
   "metadata": {},
   "source": [
    "**N.B.** A common pitfall with Python packages is forgetting if a method affects the original object or not. \n",
    "1. If the method does affect the original image, then you don't need to use an extra variable, or modify the original one. For example, `list.append(\"MI\")` appends `\"MI\"` to the original list.\n",
    "2. If the method does not affect the original image, then you need to use an extra variable for the result, or the variable itself. For example, `list.count(\"MI\")` counts the number of times that `1` appears in the list, and then returns it.\n",
    "\n",
    "Code which demonstrates this is shown below. All the PIL methods we've used so far **do not** modify the original image."
   ]
  },
  {
   "cell_type": "code",
   "execution_count": 25,
   "metadata": {},
   "outputs": [
    {
     "name": "stdout",
     "output_type": "stream",
     "text": [
      "None\n",
      "['PE', 'stroke', 'dissection', 'MI']\n",
      "Number of MIs in list:  1\n"
     ]
    }
   ],
   "source": [
    "list = [\"PE\", \"stroke\", \"dissection\"]\n",
    "\n",
    "# Method affects the original object\n",
    "appended_list = list.append(\"MI\")\n",
    "print(appended_list)    # This doesn't exist...\n",
    "print(list)             # ...But the original list has been modified.\n",
    "\n",
    "# Method does not affect the original object\n",
    "number_of_mis = list.count(\"MI\")\n",
    "print(\"Number of MIs in list: \", number_of_mis)"
   ]
  }
 ],
 "metadata": {
  "kernelspec": {
   "display_name": "Python 3",
   "language": "python",
   "name": "python3"
  },
  "language_info": {
   "codemirror_mode": {
    "name": "ipython",
    "version": 3
   },
   "file_extension": ".py",
   "mimetype": "text/x-python",
   "name": "python",
   "nbconvert_exporter": "python",
   "pygments_lexer": "ipython3",
   "version": "3.9.0"
  }
 },
 "nbformat": 4,
 "nbformat_minor": 2
}
