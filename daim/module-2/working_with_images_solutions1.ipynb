{
 "cells": [
  {
   "cell_type": "markdown",
   "metadata": {},
   "source": [
    "# Workshop - Working with images in Python\n",
    "\n",
    "Hello all - **welcome to the first module of the DAIM (Imaging) course!** We hope you learn lots during this course, and please contact one of the course leads if you have any questions or feedback.\n",
    "\n",
    "By the end of this workshop, you should be able to:\n",
    "\n",
    "* Understand the basics of PIL.\n",
    "    * Open and show images with PIL.\n",
    "    * Rotate and crop images with PIL.\n",
    "* Understand the basics of working with images in NumPy.\n",
    "    * Determine the shape of a NumPy array.\n",
    "    * Understand how to slice arrays.\n",
    "    * Understand principles of basic code refactoring.\n",
    "* Be able to convolve kernels with images with PIL.\n",
    "    * Create and apply an averaging kernel to an image.\n",
    "    * Write a example filtering function using PIL's built in filters.\n"
   ]
  },
  {
   "cell_type": "markdown",
   "metadata": {},
   "source": [
    "### Introduction - Importing packages\n",
    "\n",
    "First, let's start by importing all of the relevant packages that we will be using throughtout the workshop. This will be:\n",
    "* PIL (Python Image Library)\n",
    "* NumPy\n",
    "\n",
    "If you would like a recap of how these libraries work, review the slides from the pre-workshop seminar."
   ]
  },
  {
   "cell_type": "code",
   "execution_count": null,
   "metadata": {},
   "outputs": [],
   "source": [
    "from PIL import Image\n",
    "import numpy as np"
   ]
  },
  {
   "cell_type": "markdown",
   "metadata": {},
   "source": [
    "## Tips\n",
    "\n",
    "* During the workbook, you can use `display(image_variable)` to display any PIL images that you have created inline in the notebook."
   ]
  },
  {
   "cell_type": "markdown",
   "metadata": {},
   "source": [
    "# Section 1 - Using the PIL"
   ]
  },
  {
   "cell_type": "markdown",
   "metadata": {},
   "source": [
    "## Exercise 1 - Opening an image\n",
    "\n",
    "Let's start by opening an image. Import the PIL library, open `\"tower.png\"`, and display the image. Use [this resource](https://pillow.readthedocs.io/en/stable/handbook/tutorial.html) or the Section 1 seminar slides to help you."
   ]
  },
  {
   "cell_type": "code",
   "execution_count": null,
   "metadata": {},
   "outputs": [],
   "source": [
    "# Type your code here..."
   ]
  },
  {
   "cell_type": "markdown",
   "metadata": {},
   "source": [
    "## Solution 1\n",
    "\n",
    "<details>\n",
    "  <summary>Click to show the solution</summary>\n",
    "\n",
    "  ```python\n",
    "    from PIL import Image\n",
    "    im = Image.open(\"./tower.jpeg\")\n",
    "    display(im)\n",
    "  ```\n",
    "</details> "
   ]
  },
  {
   "cell_type": "code",
   "execution_count": null,
   "metadata": {},
   "outputs": [],
   "source": [
    "#@title\n",
    "from PIL import Image\n",
    "im = Image.open(\"./tower.jpeg\")\n",
    "display(im)"
   ]
  },
  {
   "cell_type": "markdown",
   "metadata": {},
   "source": [
    "The `display()` method is an easy way to inspect images when working with them in Python. PIL can also do basic image manipulations, such as cropping, rotating, and downscaling."
   ]
  },
  {
   "cell_type": "markdown",
   "metadata": {},
   "source": [
    "## Exercise 2 - Resizing an image\n",
    "\n",
    "Get the current size of the image using the `im.size` property and reduce the size of the image by half using the `.resize()` method. Look this up online if you are unsure how to use it. *Hint: use the `//` (floor division) operator...*\n"
   ]
  },
  {
   "cell_type": "code",
   "execution_count": null,
   "metadata": {},
   "outputs": [],
   "source": [
    "# Type your code here..."
   ]
  },
  {
   "cell_type": "markdown",
   "metadata": {},
   "source": [
    "## Solution 2\n",
    "\n",
    "<details>\n",
    "  <summary>Click to show the solution</summary>\n",
    "\n",
    "  ```python\n",
    "    # Get current size and divide it by two\n",
    "    width, height = im.size\n",
    "    new_size = (width // 2, height // 2)\n",
    "\n",
    "    im_small = im.resize(new_size)\n",
    "    display(im_small)\n",
    "  ```\n",
    "</details> "
   ]
  },
  {
   "cell_type": "markdown",
   "metadata": {},
   "source": [
    "If you print the new size of the image you'll see that the dimensions of the image have reduced by half."
   ]
  },
  {
   "cell_type": "code",
   "execution_count": null,
   "metadata": {},
   "outputs": [],
   "source": [
    "print(im_small.size)"
   ]
  },
  {
   "cell_type": "markdown",
   "metadata": {},
   "source": [
    "## Exercise 3 - Rotating images\n",
    "\n",
    "Rotate this modified image so that it is upside down and save it as a new image called `modified_im`, then display the image. [This documentation is useful](https://pillow.readthedocs.io/en/stable/reference/Image.html)."
   ]
  },
  {
   "cell_type": "code",
   "execution_count": null,
   "metadata": {},
   "outputs": [],
   "source": [
    "# Type your code here..."
   ]
  },
  {
   "cell_type": "markdown",
   "metadata": {},
   "source": [
    "## Solution 3\n",
    "\n",
    "<details>\n",
    "  <summary>Click to show the solution</summary>\n",
    "\n",
    "  ```python\n",
    "    #@title\n",
    "\n",
    "    im_rotated = im.rotate(180)\n",
    "    display(im_rotated)\n",
    "  ```\n",
    "</details> "
   ]
  },
  {
   "cell_type": "markdown",
   "metadata": {},
   "source": [
    "**N.B.** A common pitfall with Python packages is forgetting if a method affects the original object or not. \n",
    "1. If the method does affect the original image, then you don't need to use an extra variable, or modify the original one. For example, `list.append(\"MI\")` appends `\"MI\"` to the original list.\n",
    "2. If the method does not affect the original image, then you need to use an extra variable for the result, or the variable itself. For example, `list.count(\"MI\")` counts the number of times that `1` appears in the list, and then returns it.\n",
    "\n",
    "Code which demonstrates this is shown below. All the PIL methods we've used so far **do not** modify the original image."
   ]
  },
  {
   "cell_type": "code",
   "execution_count": null,
   "metadata": {},
   "outputs": [],
   "source": [
    "list = [\"PE\", \"stroke\", \"dissection\"]\n",
    "\n",
    "# Method affects the original object\n",
    "appended_list = list.append(\"MI\")\n",
    "print(appended_list)    # This doesn't exist...\n",
    "print(list)             # ...But the original list has been modified.\n",
    "\n",
    "# Method does not affect the original object\n",
    "number_of_mis = list.count(\"MI\")\n",
    "print(\"Number of MIs in list: \", number_of_mis)"
   ]
  },
  {
   "cell_type": "markdown",
   "metadata": {},
   "source": [
    "## Exercise 4 - Cropping an image\n",
    "\n",
    "PIL can also be used to crop images. This can be useful when only a certain part of the image is relevant to an analysis.\n",
    "\n",
    "When cropping images, it's important to be aware of the [coordinate system that PIL uses](https://pillow.readthedocs.io/en/stable/handbook/concepts.html#coordinate-system). It defines the pixel `(0, 0)` as the top-left corner, with y-coordinates increasing \"down\" the image, and x-coordinates increasing from left to right across the image.\n",
    "\n",
    "Visual of the coordinate system using the `im_small` image as an example - look at the graphic sent with the email: coordinate_system.png.\n",
    "\n",
    "For this task, the following region should be extracted from the image called `im_small` which we created in a previous cell:\n",
    "\n",
    "* *A square box around the image that has a dimension of 150 by 150, centered on the point (200, 210).*\n",
    "\n",
    "The documentation for this function can be found [here](https://pillow.readthedocs.io/en/stable/reference/Image.html)."
   ]
  },
  {
   "cell_type": "code",
   "execution_count": null,
   "metadata": {},
   "outputs": [],
   "source": [
    "# Type your code here..."
   ]
  },
  {
   "cell_type": "markdown",
   "metadata": {},
   "source": [
    "## Solution 4\n",
    "\n",
    "<details>\n",
    "  <summary>Click to show the solution</summary>\n",
    "\n",
    "  ```python\n",
    "    #@title\n",
    "\n",
    "    center_x, center_y = (200, 210)\n",
    "    dim = 150\n",
    "\n",
    "    right = center_x + dim // 2\n",
    "    left  = center_x - dim // 2\n",
    "\n",
    "    upper = center_y - dim // 2\n",
    "    lower = center_y + dim // 2\n",
    "\n",
    "    im_cropped = im_small.crop((left, upper, right, lower))\n",
    "    display(im_cropped)\n",
    "  ```\n",
    "</details> "
   ]
  },
  {
   "cell_type": "markdown",
   "metadata": {},
   "source": [
    "Make sure that to bear this coordinate system in mind when using PIL, as it can feel slightly counter-intuitive: \"upper\" coordinates in the y-direction are further down in the image."
   ]
  },
  {
   "cell_type": "markdown",
   "metadata": {},
   "source": [
    "## Exercise 5 - Converting an image to grayscale"
   ]
  },
  {
   "cell_type": "markdown",
   "metadata": {},
   "source": [
    "Images often need to be converted to greyscale before input into image processing algorithms or machine learning algorithms as it reduces them from 3 channels of data to 1 channel of data, changing the shape of the underlying data. More information on this concept can be found in the seminar slides before this workshop, and we will explore it here.\n",
    "\n",
    "The task is:\n",
    "* Write a function which:\n",
    "    * Accepts a PIL image\n",
    "    * Converts the image to a NumPy array\n",
    "    * Prints the shape of the resulting array\n",
    "* Next, create a copy of the `im_cropped` image.\n",
    "    * Convert this copy from a colour image into a greyscale image.\n",
    "* Use your function to print the shape of the image before and after the conversion. \n",
    "\n",
    "*What do you notice about the shape of the image when it is converted to greyscale?*\n",
    "\n",
    "If you have any questions about any step in the above process, try to use Google searching appropriately to find the answer. Including the language (python) and the package you are using (PIL, NumPy) will help to return helpful responses."
   ]
  },
  {
   "cell_type": "markdown",
   "metadata": {},
   "source": [
    "## Solution 5\n",
    "\n",
    "<details>\n",
    "  <summary>Click to show the solution</summary>\n",
    "\n",
    "  ```python\n",
    "    #@title\n",
    "\n",
    "    im_grey = im_cropped \n",
    "\n",
    "    def print_img_shape(target_im):\n",
    "        arr = np.array(target_im)\n",
    "        print(arr.shape)\n",
    "\n",
    "    print_img_shape(im_grey)\n",
    "    im_grey = im_grey.convert('L')\n",
    "    print_img_shape(im_grey)\n",
    "\n",
    "    im_grey\n",
    "  ```\n",
    "</details> "
   ]
  },
  {
   "cell_type": "markdown",
   "metadata": {},
   "source": [
    "The conversion to NumPy removes the last channel, so the image is `(150, 150)` rather than `(150, 150, 1)`. This is important, as some algorithms require this last channel in the shape of the image to be declared explicitly. *More on this later in the course...*"
   ]
  }
 ],
 "metadata": {
  "kernelspec": {
   "display_name": "Python 3",
   "language": "python",
   "name": "python3"
  },
  "language_info": {
   "codemirror_mode": {
    "name": "ipython",
    "version": 3
   },
   "file_extension": ".py",
   "mimetype": "text/x-python",
   "name": "python",
   "nbconvert_exporter": "python",
   "pygments_lexer": "ipython3",
   "version": "3.9.0"
  }
 },
 "nbformat": 4,
 "nbformat_minor": 2
}
