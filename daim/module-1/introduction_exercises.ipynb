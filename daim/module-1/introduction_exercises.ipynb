{
  "cells": [
    {
      "cell_type": "markdown",
      "metadata": {
        "id": "JHdujPn_94aa"
      },
      "source": [
        "# Module 1 - Introductory exercises\n",
        "\n",
        "This workbook contains some **exercises** to work through prior to the first image-based workbook in Module 2. The aim of these short exercises is to:\n",
        "\n",
        "- **Recap** Python concepts\n",
        "- Introduce you to **Google Colab**\n",
        "- Introduce you to the **style of notebooks** we will use in this course\n",
        "\n",
        "Please ask on [the forum](https://discourse.digitalhealth.net/t/data-in-analytics-course-forum/63765) if you have **any questions** about **setting up Google Colab** or **the exercises** in this notebook."
      ]
    },
    {
      "cell_type": "markdown",
      "metadata": {
        "id": "S96J3Qoe_BmJ"
      },
      "source": [
        "## Exercise 1 - Importing packages\n",
        "\n",
        "In this module, we will be using the `math` package, which is built into Python. Import this module and use it to print the square root of 2."
      ]
    },
    {
      "cell_type": "code",
      "execution_count": null,
      "metadata": {
        "id": "Xd-Z-kAv93mQ"
      },
      "outputs": [],
      "source": [
        "# Type your solution here..."
      ]
    },
    {
      "cell_type": "markdown",
      "metadata": {
        "id": "YIh10fkD_uJC"
      },
      "source": [
        "### Solution"
      ]
    },
    {
      "cell_type": "code",
      "execution_count": null,
      "metadata": {
        "id": "Fqb3NvIP_xPq"
      },
      "outputs": [],
      "source": [
        "# After the workbooks, you will be sent a workbook with the solutions.\n",
        "# They will be in this format.\n",
        "\n",
        "import math\n",
        "print(math.sqrt(2))"
      ]
    },
    {
      "cell_type": "markdown",
      "metadata": {
        "id": "QqUY-5SlAC30"
      },
      "source": [
        "**Solution explanation**\n",
        "\n",
        "We import the `math` package with the `import` keyword. A Google search shows us that the `sqrt` method is used for computing the square root of a number. We use Python's `print` function to show the solution."
      ]
    },
    {
      "cell_type": "markdown",
      "metadata": {
        "id": "65zHk3rwAVWX"
      },
      "source": [
        "## Exercise 2 - Loops\n",
        "\n",
        "Use a for loop to print the first 5 even numbers. The output should show the following:\n",
        "\n",
        "```\n",
        "2\n",
        "4\n",
        "6\n",
        "8\n",
        "10\n",
        "```"
      ]
    },
    {
      "cell_type": "code",
      "execution_count": null,
      "metadata": {
        "id": "XcvE3LlZAybl"
      },
      "outputs": [],
      "source": [
        "# Type your solution here..."
      ]
    },
    {
      "cell_type": "markdown",
      "metadata": {
        "id": "_EP--Z2ACRDe"
      },
      "source": [
        "## Exercise 3 - Volumes of tumours\n",
        "\n",
        "A radiologist has given you a series of meningioma diameters in $cm$ from MR head studies and would like you to calculate the volume of each of the tumours in $cm^3$. Assume the meninigiomas are spherical, and print the volumes once calculated. The list is given below:\n",
        "\n",
        "```\n",
        "[1.2, 1.3, 2.3, 0.2, 0.4, 0.7, 3.3]\n",
        "```\n",
        "\n",
        "*For reference: the volume of a sphere is:* $V = \\frac{4}{3} \\pi r ^ 3$"
      ]
    },
    {
      "cell_type": "code",
      "execution_count": null,
      "metadata": {
        "id": "qC2Y3RjfD9Yy"
      },
      "outputs": [],
      "source": [
        "# Type your solution here..."
      ]
    },
    {
      "cell_type": "markdown",
      "metadata": {
        "id": "6RWNGUxUA2SJ"
      },
      "source": [
        "## Exercise 4 - Age Adjustments\n",
        "\n",
        "You are writing a clinical calculator for determining positive and negative age adjusted D-dimer results. Write a function which takes a patient's age and a D-dimer value (in FEU) and returns whether the age-adjusted D-dimer result is positive. Use the description below to write the function:\n",
        "\n",
        "- The default threshold is 500.\n",
        "- If the patient's age is 50 or greater, the threshold should be `age * 10`.\n",
        "\n",
        "Return `True` if the D-dimer value is on or above the threshold or `False` if it is not.\n",
        "\n",
        "Write a few tests to check that your function works. An example is below:\n",
        "\n",
        "```python\n",
        "d_dimer_test(age = 70, d_dimer = 1000)\n",
        ">>> True\n",
        "```"
      ]
    },
    {
      "cell_type": "code",
      "execution_count": 15,
      "metadata": {
        "id": "ocrQgkmhCSR9"
      },
      "outputs": [],
      "source": [
        "# Type your solution here..."
      ]
    },
    {
      "cell_type": "markdown",
      "metadata": {
        "id": "0jIPEAe5EH1I"
      },
      "source": [
        "## Exercise 5 - Medication Rounding\n",
        "\n",
        "You are writing software for a drug dosing calculator. This drug is only available in 100mg increments, and patients are prescribed 4mg/kg.\n",
        "\n",
        "Write a function that accepts the weight of the patient and returns the appropriate dose of the drug, rounded to the nearest 100mg. Make sure that the function returns an integer.\n",
        "\n",
        "An example is given below:\n",
        "\n",
        "```\n",
        "drug_dosing(weight = 70)\n",
        ">>> 300\n",
        "```\n",
        "\n",
        "*Hint: use the `round()` function.*\n",
        "\n"
      ]
    },
    {
      "cell_type": "code",
      "execution_count": null,
      "metadata": {
        "id": "SzFc23V3Fbv5"
      },
      "outputs": [],
      "source": [
        "# Type your solution here..."
      ]
    },
    {
      "cell_type": "markdown",
      "metadata": {
        "id": "pj39jBJAF_Ad"
      },
      "source": [
        "## Exercise 6 - Deleting duplicates\n",
        "\n",
        "One of your team is conducting an audit about different types of imaging modalities requested in A&E. They have given you a small list of all of the modalities of scans requested, but would like you to remove the duplicates from the list.\n",
        "\n",
        "The list is given below:\n",
        "\n",
        "```\n",
        "[\"CXR\", \"CXR\", \"CTH\", \"CTH\", \"Ankle_XR_L\", \"Arm_XR_L\", \"CXR\", \"Arm_XR_L\", \"Arm_XR_R\", \"CTH\", \"CTH\", \"Ankle_XR_R\", \"Ankle_XR_L\", \"Ankle_XR_R\"]\n",
        "```\n",
        "\n",
        "How many different modalities are there? Print the number of unique modalities and the list with the duplicates removed.\n",
        "\n",
        "*Hint: Look online if you are not sure on how to remove duplicates from a list. A `set` may come in useful...*"
      ]
    },
    {
      "cell_type": "code",
      "execution_count": 14,
      "metadata": {
        "id": "3y9bfvH3IW06"
      },
      "outputs": [],
      "source": [
        "# Type your solution below..."
      ]
    },
    {
      "cell_type": "markdown",
      "metadata": {
        "id": "-jwCiT-OIoYN"
      },
      "source": [
        "## Exercise 7 - Decoding a message\n",
        "\n",
        "The DAIM team have encoded a message in a file that was sent with this workbook called `secret_message.txt`. They have also provided the function to decode this message in the cell below:"
      ]
    },
    {
      "cell_type": "code",
      "execution_count": 23,
      "metadata": {
        "id": "0OsabMqfJJfM"
      },
      "outputs": [],
      "source": [
        "def msg_decoder(string):\n",
        "\n",
        "  char_lst = list(string)\n",
        "  decoded_lst = [chr(ord(x) - 3) for x in char_lst]\n",
        "  return \"\".join(decoded_lst)"
      ]
    },
    {
      "cell_type": "markdown",
      "metadata": {
        "id": "glU_jpWyLEXh"
      },
      "source": [
        "To decode the message, do the following:\n",
        "\n",
        "- Run the code in the cell above to allow you to use the `msg_decoder` function.\n",
        "- Import the text file into Google Colab by dragging it into the **Files** tab on the left of the screen.\n",
        "- Open and read the text file with Python.\n",
        "- Use the decoder function provided to decode the message.\n",
        "- Print the message."
      ]
    },
    {
      "cell_type": "markdown",
      "metadata": {
        "id": "CNCiJoriLv8V"
      },
      "source": [
        "# Conclusions\n",
        "\n",
        "This is the end of the **introductory exercises**. If you would like some help with the exercises, **please ask us using the forum** and we'd be happy to help! The forum can be accessed [here](https://discourse.digitalhealth.net/t/data-in-analytics-course-forum/63765).\n",
        "\n",
        "If you would like **more exercises** like this before the first workbook, **please let us know** and we can extend this workbook."
      ]
    }
  ],
  "metadata": {
    "colab": {
      "provenance": []
    },
    "kernelspec": {
      "display_name": "Python 3",
      "name": "python3"
    },
    "language_info": {
      "name": "python"
    }
  },
  "nbformat": 4,
  "nbformat_minor": 0
}
