{
  "cells": [
    {
      "cell_type": "markdown",
      "metadata": {
        "id": "R0ucW0G3BxU-"
      },
      "source": [
        "# Module 3 Workshop : Python, DICOM Files and Beyond\n",
        "\n",
        "Welcome to the Module 3 workshop! Today, we will be covering the basics of working with DICOM files in Python. DICOM files are containers of radiographic data holding **the image** and supporting **metadata**.\n",
        "\n",
        "In this notebook, we will introduce you to a very handy library in Python called *Pydicom*. We will use this tool to read DICOM files, extract important pieces of information, visualise 2D and 3D images as well as using DICOM files to gain insight into our data.\n",
        "\n",
        "During our workshop we would like you to try to use Pydicom's documentation to explore more on its functionality : https://pydicom.github.io/pydicom/stable/tutorials/dataset_basics.html"
      ]
    },
    {
      "cell_type": "markdown",
      "metadata": {
        "id": "hsKUXpR0BxVB"
      },
      "source": [
        "## Acquiring the dataset\n",
        "\n",
        "For this workshop, we will use [this hippocampus MRI dataset](https://www.kaggle.com/datasets/aryashah2k/hippocampal-sparing-dataset). It has a CC BY 3.0 licence, which means it is free to use for commercial use.\n",
        "\n",
        "**Set up a Kaggle username and key follow the instructions below:**\n",
        "\n",
        "1. Go to the [Kaggle website](https://www.kaggle.com/) and register for an account.\n",
        "2. Go to `Settings` and scroll down to `API keys`. Click `Create New Token`.\n",
        "3. Open the JSON file that will be downloaded and copy the `username` and `key` into the strings below.\n",
        "4. Run the code cell below.\n",
        "\n",
        "This will ensure that the Google Colab server can authenticate you when you download the MR images."
      ]
    },
    {
      "cell_type": "code",
      "execution_count": null,
      "metadata": {
        "id": "HUfx4SgNXBK6"
      },
      "outputs": [],
      "source": [
        "import os\n",
        "\n",
        "os.environ['KAGGLE_USERNAME'] = 'YOUR_USERNAME_HERE'\n",
        "os.environ['KAGGLE_KEY'] = 'YOUR_KEY_HERE'"
      ]
    },
    {
      "cell_type": "markdown",
      "metadata": {
        "id": "D6VZVqkFX_bf"
      },
      "source": [
        "**Then, run the following terminal commands:**"
      ]
    },
    {
      "cell_type": "code",
      "execution_count": null,
      "metadata": {
        "id": "i3fisFzwCvWK"
      },
      "outputs": [],
      "source": [
        "!kaggle datasets download aryashah2k/hippocampal-sparing-dataset\n",
        "!unzip hippocampal-sparing-dataset.zip"
      ]
    },
    {
      "cell_type": "markdown",
      "metadata": {
        "id": "tIh21E4XC-3A"
      },
      "source": [
        "*N.B. if you are not using Google Colab to run this cell, you can run these commands in your terminal without the preceding* `!`.\n",
        "\n",
        "*N.B. If you are running this locally, you may need to install `kaggle` using PIP.*"
      ]
    },
    {
      "cell_type": "markdown",
      "metadata": {
        "id": "jtXwsTuMCxpC"
      },
      "source": [
        "## Preparing our workspace\n",
        "\n",
        "Before we start, please make sure you are set up with the required packages by running the following cell:"
      ]
    },
    {
      "cell_type": "code",
      "execution_count": null,
      "metadata": {
        "id": "4OPVPLJUBxVB"
      },
      "outputs": [],
      "source": [
        "import pandas as pd\n",
        "import numpy as np\n",
        "import matplotlib.pyplot as plt\n",
        "import os\n",
        "from PIL import Image"
      ]
    },
    {
      "cell_type": "markdown",
      "metadata": {
        "id": "fPcTADA6DsPE"
      },
      "source": [
        "Unfortunately, the `pydicom` package is not preinstalled into Google Colab's environments by default. Therefore, we need to install it by running a terminal command using a `!`:"
      ]
    },
    {
      "cell_type": "code",
      "execution_count": null,
      "metadata": {
        "id": "ozSoC6z5DnLO"
      },
      "outputs": [],
      "source": [
        "!pip install pydicom"
      ]
    },
    {
      "cell_type": "markdown",
      "metadata": {
        "id": "ZNBf9y4YEvAc"
      },
      "source": [
        "Now that the package is installed, we can import it into our Python environment:"
      ]
    },
    {
      "cell_type": "code",
      "execution_count": null,
      "metadata": {
        "id": "4wtttV1zE0-5"
      },
      "outputs": [],
      "source": [
        "import pydicom"
      ]
    },
    {
      "cell_type": "markdown",
      "metadata": {
        "id": "ZdjMKeb3EABn"
      },
      "source": [
        "Our environment is now set up! Take a moment to look through the folder (directory) for the hippocampal MR data. What is its structure? How are the files arranged?"
      ]
    },
    {
      "cell_type": "markdown",
      "metadata": {
        "id": "jtIA4XEABxVD"
      },
      "source": [
        "# Part 1 - DICOM Metadata"
      ]
    },
    {
      "cell_type": "markdown",
      "metadata": {
        "id": "CYtdnsJgEH89"
      },
      "source": [
        "We will start by opening an example file from the folder. This can be done using the `dcmread` method from the package. Run the following cell to see the structure of the DICOM file after opening it.\n",
        "\n",
        "In this dataset of MRI scans, multiple files account for mutiple slices for the same patient. For now, we will only read a single slice for every patient to extract relevant metadata."
      ]
    },
    {
      "cell_type": "code",
      "execution_count": null,
      "metadata": {
        "id": "5Seu5lBABxVD"
      },
      "outputs": [],
      "source": [
        "# Example DICOM image filepath\n",
        "example_fp = \"HippocampalMRISlices/01/MR.1.2.246.352.221.478795775126922662561249727364263601.dcm\"\n",
        "\n",
        "example_dcm = pydicom.dcmread(example_fp)\n",
        "\n",
        "print(example_dcm)"
      ]
    },
    {
      "cell_type": "markdown",
      "metadata": {
        "id": "_YBDcrI2FPrV"
      },
      "source": [
        "## Exercise 1 - Printing human-readable text\n",
        "\n",
        "The `dir()` function in Python returns a list of attributes and methods of the object that it is called on. These attributes will vary depending on the object that is passed. For instance:\n",
        "\n",
        "1. A NumPy array has attributes like `shape`, as it is an array.\n",
        "2. Strings have methods like `capitilize`, as they represent text.\n",
        "\n",
        "An example is given below, which you can run:"
      ]
    },
    {
      "cell_type": "code",
      "execution_count": null,
      "metadata": {
        "id": "4Q0NRXH4ZnwH"
      },
      "outputs": [],
      "source": [
        "test_arr = np.array([1, 2, 3, 4, 5, 6])\n",
        "\n",
        "print(dir(test_arr)) # Print the attributes of the array.\n",
        "\n",
        "test_arr.shape # Access one of these attributes."
      ]
    },
    {
      "cell_type": "markdown",
      "metadata": {
        "id": "udijabEVZmpR"
      },
      "source": [
        "If you scroll past the names which start and end with `__`, you will see common methods and attributes that we accessed for NumPy arrays in the last seminar e.g. `.shape` and `.dtype`. For DICOM files, this will show us all of the metadata tags associated with the file. This allows us to inspect which attributes can be accessed through **dot notation**. For example:"
      ]
    },
    {
      "cell_type": "code",
      "execution_count": null,
      "metadata": {
        "id": "Mf1Ywf3iGTMV"
      },
      "outputs": [],
      "source": [
        "print(example_dcm.PatientID)"
      ]
    },
    {
      "cell_type": "markdown",
      "metadata": {
        "id": "Z8bwvLcDGMXZ"
      },
      "source": [
        "For this exercise, **use the `dir()` function** (which can be passed any Python object) to **inspect all of the available metadata** tags. Use these tags to print a **description** in the following form:\n",
        "\n",
        "*Patient with ID  of {patient ID} had undergone an {modality}. The scanner was manufactured by {manufacturer}.\n",
        "Patient position was {position of patient while undergoing study} and and received contrast via {way of contrast intake}.*"
      ]
    },
    {
      "cell_type": "code",
      "execution_count": null,
      "metadata": {
        "id": "ruo4LnwKBxVF"
      },
      "outputs": [],
      "source": [
        "# Write your solution here..."
      ]
    },
    {
      "cell_type": "markdown",
      "metadata": {
        "id": "WOlh1gQABxVG"
      },
      "source": [
        "## Anonymisation of images\n",
        "\n",
        "Note you might find that many of the metadata dicom tags such age, gender, name and study date are empty. This is because this data is for **public use** and has been **deindentified**.\n",
        "\n",
        "Also note the **\"Patient Identity Removed\"** attribute being saved as **\"Yes\"** so you can check if your data has been appropriately de-identified or not."
      ]
    },
    {
      "cell_type": "markdown",
      "metadata": {
        "id": "romGZsrDw5PK"
      },
      "source": [
        "## How is this data structured?\n",
        "\n",
        "If you look in Google Colab's file brower on the left of your screen, the format of the scans may be slightly confusing.\n",
        "\n",
        "The `HippocampalMRISlices` folder (directory) has multiple numbered folders in it which represent each patient. Each of these numbered folders, e.g. `01`, has **multiple DICOM files** (.dcm files) in which contain the data for **each slice**.\n",
        "\n",
        "## Exercise 2 - Reading folders\n",
        "\n",
        "Use the `os` package to print the name of patient folder in the `HippocampalMRISlices` folder.\n",
        "\n",
        "Hint: Use the `os.listdir(\"folder_name\")` to get a list all of the available sub-folders in a given folder."
      ]
    },
    {
      "cell_type": "code",
      "execution_count": null,
      "metadata": {
        "id": "B-EWhnX4xdOO"
      },
      "outputs": [],
      "source": [
        "## Write your solution here..."
      ]
    },
    {
      "cell_type": "markdown",
      "metadata": {
        "id": "HnPzVmOrJ0Yr"
      },
      "source": [
        "## Exercise 3 - How many patients were given contrast?\n",
        "\n",
        "During the last couple of exercises, we accessed the metadata tag which describes what type of contrast the patient was given, and printed the path to all of the DICOM files in this dataset.\n",
        "\n",
        "For this task, open the first DICOM file in each folder using the same method as before, and extract the contrast tag for the first DICOM file, and work out what percentage of patients in the dataset were given **IV contrast**. Use your code from the previous two exercises to help you. Assume that the contrast administration method is the same between all of the files for each patient - you do not need to explicitly check this.\n",
        "\n",
        "Hint: Use `os.listdir(\"filepath\")` to list all of the files in the `HippocampalMRISlices` folder.\n",
        "\n",
        "Hint: Use `os.path.join(\"first_folder\", \"second_folder\")` to join the name of the top folder and patient folder together to allow you to list the DICOM files in each patient's folder - you can pick one from this list. For example:\n",
        "\n",
        "- `\"HippocamalMRISlices\"` + `\"14\"` = `\"HippocamalMRISlices/14\"`"
      ]
    },
    {
      "cell_type": "code",
      "execution_count": null,
      "metadata": {
        "id": "9uMs6rqFJz2H"
      },
      "outputs": [],
      "source": [
        "## Write your solution here..."
      ]
    },
    {
      "cell_type": "markdown",
      "metadata": {
        "id": "3CmQsLEXNnDM"
      },
      "source": [
        "## Exercise 4 - Checking for anonymisation\n",
        "\n",
        "Data anonymisation is a very important part of information governance and patient confidentiality when working with digital data.\n",
        "\n",
        "Write a function, based on your answer to the last exercise, which checks if **every DICOM file** in the entire dataset has been anonymised. You may need to return back to your tag printing at the start of the workbook to identify an appropriate tag to work out whether the identity of the patient is removed from each DICOM file.\n",
        "\n",
        "Your function should **throw an exception** if it detects non-anonymised data. Use [this thread](https://stackoverflow.com/questions/2052390/manually-raising-throwing-an-exception-in-python) to help you.\n",
        "\n",
        "*You will need to iterate with for loops twice for this exercise - once for the patient folders, and another time to access the DICOM files in each patient folder.*\n",
        "\n",
        "*To extend this exercise - this function takes a little while (less than 1 minute) to run. How could you indicate progress to the user?*"
      ]
    },
    {
      "cell_type": "code",
      "execution_count": null,
      "metadata": {
        "id": "_l6ltT_FOXKE"
      },
      "outputs": [],
      "source": [
        "# Write your solution here..."
      ]
    },
    {
      "cell_type": "markdown",
      "metadata": {
        "id": "LYeiWUF-BxVL"
      },
      "source": [
        "# Part 2 - Working with Image Data"
      ]
    },
    {
      "cell_type": "markdown",
      "metadata": {
        "id": "axu--wZiaLgU"
      },
      "source": [
        "Next, we will access the image data of our example 2D slice of the MR scan that we opened earlier. We can do this by accessing the `pixel_array` attribute of the DICOM file we have opened:"
      ]
    },
    {
      "cell_type": "code",
      "execution_count": null,
      "metadata": {
        "id": "LnAp_jAkBxVL"
      },
      "outputs": [],
      "source": [
        "example_img = example_dcm.pixel_array"
      ]
    },
    {
      "cell_type": "markdown",
      "metadata": {
        "id": "aSxgJx7Qc0ON"
      },
      "source": [
        "## Exercise 5 - Investigating an object\n",
        "\n",
        "Investigate this object - what is it's type? What is it's structure? What are the elements like?\n",
        "\n",
        "Can you figure out how to display it as an image based on the work we did in the previous workshop?\n",
        "\n",
        "*Hint: Think about NumPy arrays and the `dir` method...*"
      ]
    },
    {
      "cell_type": "code",
      "execution_count": null,
      "metadata": {
        "id": "x1Tf6OUzBxVL"
      },
      "outputs": [],
      "source": [
        "# Type your solution here"
      ]
    },
    {
      "cell_type": "markdown",
      "metadata": {
        "id": "HhJ8Mvi8iNU8"
      },
      "source": [
        "### Image representation\n",
        "\n",
        "We can display the image with the following PyPlot code (which we have not delved into during this course):"
      ]
    },
    {
      "cell_type": "code",
      "execution_count": null,
      "metadata": {
        "id": "PeqQXJ-eiQ3t"
      },
      "outputs": [],
      "source": [
        "# Plot the image with a grayscale colourmap.\n",
        "plt.imshow(example_img, cmap=\"grey\")"
      ]
    },
    {
      "cell_type": "markdown",
      "metadata": {
        "id": "32mkr5D4id0F"
      },
      "source": [
        "This is a **good rendering** of this scan, but it **hides a lot of detail** about how the image is represented that is important to understand.\n",
        "\n",
        "The following code demonstrates that the image is encoded in (signed) 16-bit integers:"
      ]
    },
    {
      "cell_type": "code",
      "execution_count": null,
      "metadata": {
        "id": "PsA3gPbRiyAt"
      },
      "outputs": [],
      "source": [
        "example_img.dtype"
      ]
    },
    {
      "cell_type": "markdown",
      "metadata": {
        "id": "Z8g_prOxjo6C"
      },
      "source": [
        "If we **directly display** this image with PIL, it automatically scales the values and the **image is not rendered properly**. This effect is shown below:"
      ]
    },
    {
      "cell_type": "code",
      "execution_count": null,
      "metadata": {
        "id": "YI_c_zAfj1CS"
      },
      "outputs": [],
      "source": [
        "disp_img = example_img.astype(\"uint8\")\n",
        "im = Image.fromarray(disp_img)\n",
        "display(im)"
      ]
    },
    {
      "cell_type": "markdown",
      "metadata": {
        "id": "vfzj-NSwoBS3"
      },
      "source": [
        "The DICOM attributes hold important information for making sense of this. The **windowing** parameters contained within the metadata tell us more about how the scan should be rendered. You can access the values of these by running the code cell below:"
      ]
    },
    {
      "cell_type": "code",
      "execution_count": null,
      "metadata": {
        "id": "uZ-CHIAx2HeY"
      },
      "outputs": [],
      "source": [
        "print(f\"Window Centre: {example_dcm.WindowCenter}\")\n",
        "print(f\"Window Width: {example_dcm.WindowWidth}\")"
      ]
    },
    {
      "cell_type": "markdown",
      "metadata": {
        "id": "Kr-2nFVP2gwJ"
      },
      "source": [
        "The window centre value tells us which value corresponds to the **middle value** of the image - i.e. 0.5 in a floating point format, 128 in 8-bit format - **the \"middle\" shade of grey**.\n",
        "\n",
        "The window width tells us how far **above and below this value** we must go to access the **dynamic range that is represented**.\n",
        "\n",
        "In this example, the middle of the window is at **value 4773** and the **9547** values around this make up the full window.\n",
        "\n",
        "Also, data is lost when converting between 16-bit and 8-bit, as there are fewer values represented. Screens can usually **only display 256 values of brightness**, and **this image has 9547** - we need to **lose information** before displaying it. The extra bits in this image allow for more shades of grey to be represented - this is called an increase in **dynamic range**.\n",
        "\n",
        "The diagram below illustrates this with an imaginary image with a total of 512 values.\n",
        "\n",
        "![Diagram demonstrating windowing for an image with 512 values](./windowing.png)"
      ]
    },
    {
      "cell_type": "markdown",
      "metadata": {
        "id": "LCjADUHShU8r"
      },
      "source": [
        "## DICOM Windowing\n",
        "\n",
        "We've looked into the image data within the DICOM file. We can create a basic render the image with any window that the user requests using the following steps:\n",
        "\n",
        "1. Make the `0.0` value of the original image and the `0.0` value of the window align.\n",
        "2. Divide the image by the window width to bring all of the relevant image values between 0.0 and 1.0\n",
        "3. Set any values outside this range to 0.0.\n",
        "\n",
        "Try drawing a diagram like the one above for each of these steps to try and clarify the above steps.\n",
        "\n",
        "We will work through writing code for each step of this **algorithm** in seperate steps.\n",
        "\n",
        "*NB - This windowing is a different process to windowing a CT scan (as discussed in the seminar), as the values in the MR image do not correspond to tissue density. Selecting a different window for the MR image will alter the appearance of the image as rendered by Python or your DICOM viewer.*\n",
        "\n",
        "# Exercise 6a - Zeroing the window\n",
        "\n",
        "Use the `WindowCenter` and `WindowWidth` attributes to ensure that the bottom of the window is at `0.0`. This corresponds to step 1 of the algorithm described above. Use the `.min()` method that can be called on NumPy arrays to ensure that your code is working.\n",
        "\n",
        "*Hint: this image and window are already aligned to zero...but others may not be! Try your code with different window widths.*"
      ]
    },
    {
      "cell_type": "code",
      "execution_count": null,
      "metadata": {
        "id": "2B6WQqafjC0E"
      },
      "outputs": [],
      "source": [
        "# Write your solution here"
      ]
    },
    {
      "cell_type": "markdown",
      "metadata": {
        "id": "vnJUIe2CjtvM"
      },
      "source": [
        "## Exercise 6b - Normalising an image\n",
        "\n",
        "Next, we need to bring all of the values to be within 0.0 and 1.0. This is often referred to as **normalising** an image. After doing this, remove all values outside of this range. This corresponds to steps 2 and 3 of the algorithm. Use `.min()` and `.max()` to confirm that your code is working.\n",
        "\n",
        "*Hint: use the code below as an example for setting out of range values to 0:*"
      ]
    },
    {
      "cell_type": "code",
      "execution_count": null,
      "metadata": {
        "id": "E21Ud7uNltmP"
      },
      "outputs": [],
      "source": [
        "arr = np.array([1, 3, 4, 100])\n",
        "arr = arr * (arr < 5)\n",
        "print(arr)"
      ]
    },
    {
      "cell_type": "code",
      "execution_count": null,
      "metadata": {},
      "outputs": [],
      "source": [
        "# Write your solution here..."
      ]
    },
    {
      "cell_type": "markdown",
      "metadata": {
        "id": "X5f_eD0Hly01"
      },
      "source": [
        "## Exercise 6c - Displaying an image.\n",
        "\n",
        "Multiply this final image by 255, use the `.astype(\"uint8\")` method to convert it to an 8-bit greyscale image, and display an image using PIL. Use the exercises from the previous workbook to help you."
      ]
    },
    {
      "cell_type": "code",
      "execution_count": null,
      "metadata": {
        "id": "luGE7HzymJCN"
      },
      "outputs": [],
      "source": [
        "# Write your solution here..."
      ]
    },
    {
      "cell_type": "markdown",
      "metadata": {
        "id": "hA2hF-2PmZa_"
      },
      "source": [
        "## Exercise 6d - Making your code reusable\n",
        "\n",
        "Bring all of the code from the rest of Exercise 6 together to write a function which accepts a NumPy array, a window centre, and window width parameter, and returns a windowed  NumPy array. This can then be converted to a PIL Image, ready to display. Test your function with the example DICOM data that we have been using to ensure that your output is the same as Exercise 6c."
      ]
    },
    {
      "cell_type": "code",
      "execution_count": null,
      "metadata": {
        "id": "g4t4I4CJmr5Y"
      },
      "outputs": [],
      "source": [
        "# Write your solution here..."
      ]
    },
    {
      "cell_type": "markdown",
      "metadata": {
        "id": "fXnxv63fBxVP"
      },
      "source": [
        "# Part 3 - Understanding `SliceLocation` in DICOM\n",
        "\n",
        "The **`SliceLocation`** tag in a DICOM file represents the **relative position** of a slice along the scanning axis. It is usually measured in **millimeters (mm)**.\n",
        "\n",
        "For example, what Does `SliceLocation = -48` Mean?\n",
        "\n",
        "- The slice is **48mm away from a reference plane** defined by the scanner.\n",
        "- A **negative value** means the slice is **below the reference point**.\n",
        "\n",
        "A list of key DICOM tags (attributes) for positioning are listed below:\n",
        "\n",
        "| DICOM Tag | Meaning |\n",
        "|-----------|---------|\n",
        "| **`SliceLocation`** `(0020,1041)` | Relative position of the slice (scanner-defined). |\n",
        "| **`ImagePositionPatient`** `(0020,0032)` | Absolute 3D coordinates of the slice in patient space (x, y, z). |\n",
        "| **`ImageOrientationPatient`** `(0020,0037)` | Defines the anatomical plane (axial, sagittal, coronal). |\n",
        "\n",
        "The reference planes can be intepreted like this:\n",
        "- **Axial (Transverse)** → Z changes → Example: Brain MRI  \n",
        "- **Sagittal** → X changes → Example: Side view of the body  \n",
        "- **Coronal** → Y changes → Example: Front-facing chest scan  \n",
        "\n",
        "Finally, the `ImageOrientationPatient` attribute can be interpreted like this:\n",
        "- `[1, 0, 0, 0, 1, 0]` → Axial (Transverse)\n",
        "- `[0, 1, 0, 0, 0, 1]` → Sagittal\n",
        "- `[1, 0, 0, 0, 0, 1]` → Coronal\n",
        "\n",
        "In summary:\n",
        "- `SliceLocation = -48` means **the slice is 48mm below the scanner's reference plane**.  \n",
        "- Use `ImagePositionPatient` for exact positioning.\n",
        "- Check `ImageOrientationPatient` to determine the slice orientation.\n",
        "\n",
        "[This image](https://commons.wikimedia.org/wiki/File:Planes_of_Body.jpg) demonstrates the anatomical reference planes that a scanner uses. *Source: OpenStax College. Anatomy & Physiology, Connexions Web site. http://cnx.org/content/col11496/1.6/, Jun 19, 2013.*"
      ]
    },
    {
      "cell_type": "code",
      "execution_count": null,
      "metadata": {
        "id": "FVlMxkT7BxVP"
      },
      "outputs": [],
      "source": [
        "print(example_dcm.ImagePositionPatient)"
      ]
    },
    {
      "cell_type": "markdown",
      "metadata": {
        "id": "IXCHwIqR7SrV"
      },
      "source": [
        "## Exercise 7 - Slice Orientations\n",
        "\n",
        "Using patient `01`'s file, open each of the DICOM files and print the `SliceLocation`, `ImagePositionPatient`, and `ImageOrientationPatient` attributes to investigate how best to combine the image data together.\n",
        "\n",
        "Make sure that you check that the DICOM file has image data in it before trying to access each of these attributes. You can do this by checking if the \"PixelData\" attribute exists in the file.\n",
        "\n",
        "*Hint: use `dir(your_dicom_file)`, which returns a list of attributes, and the following code below to help you:*\n",
        "\n",
        "```python\n",
        "fruit = \"orange\"\n",
        "fruit_salad = [\"apples\", \"oranges\", \"pears\"]\n",
        "\n",
        "if fruit in fruit_salad:\n",
        "    print(f\"{fruit} is present!\")\n",
        "```\n",
        "\n"
      ]
    },
    {
      "cell_type": "code",
      "execution_count": null,
      "metadata": {
        "id": "Raaj4vG675XI"
      },
      "outputs": [],
      "source": [
        "# Write your solution here..."
      ]
    },
    {
      "cell_type": "markdown",
      "metadata": {
        "id": "cXXQOTN390sW"
      },
      "source": [
        "## Exercise 8 - Sorting slices\n",
        "\n",
        "The last exercise showed that the files are in **random locations** - if we try to combine them into one 3D image now, the slides will be **out of order**.\n",
        "\n",
        "Using your code from the previous exercise, append all of the relevant DICOM files to a list and sort the resulting list into ascending order of slice location. After this, print the slice locations of the first three images in your list of DICOM objects to make sure that they are in order.\n",
        "\n",
        "Use the explanation of `.sort()` below to help you.\n",
        "\n",
        "**The `.sort()` method**\n",
        "\n",
        "This is a powerful Python method that can be used to sort a Python list into a certain order. If run with no arguments, it will sort into ascending order by default:"
      ]
    },
    {
      "cell_type": "code",
      "execution_count": null,
      "metadata": {
        "id": "Vaoks1U7AcPZ"
      },
      "outputs": [],
      "source": [
        "num_list = [10, 2, 4, 5, 8, 6]\n",
        "\n",
        "num_list.sort()\n",
        "\n",
        "print(num_list)"
      ]
    },
    {
      "cell_type": "markdown",
      "metadata": {
        "id": "XhnbA83tAmCt"
      },
      "source": [
        "However, the `key` argument of `.sort()` makes it very powerful. You can pass it a type of **function** called a **lambda function** to sort objects by a **certain attribute**. This makes it very useful for sorting objects that don't have an obvious \"order\". We want this lambda function to give a **numerical value** that **can be sorted**. For example, we can sort this list of strings by their length using this lambda function:"
      ]
    },
    {
      "cell_type": "code",
      "execution_count": null,
      "metadata": {
        "id": "R0QS9yZiBO7y"
      },
      "outputs": [],
      "source": [
        "str_lst = [\"The\", \"quick\", \"brown\", \"fox\", \"jumps\", \"over\", \"the\", \"lazy\", \"dog\"]\n",
        "\n",
        "str_lst.sort(key = lambda x: len(x))\n",
        "\n",
        "print(str_lst)"
      ]
    },
    {
      "cell_type": "markdown",
      "metadata": {
        "id": "PWFBPc2OBl9H"
      },
      "source": [
        "The `x` variable in the lambda function refers to each element of the list. This means that we can use **the following lambda function** to sort DICOM files by a certain attribute. In this case, **we would like to sort them by `SliceLocation`:**\n",
        "\n",
        "```python\n",
        "lambda x: x.SliceLocation\n",
        "```\n",
        "\n",
        "You can use this lambda function with your list of opened DICOM files to sort them into ascending order. Use the code examples above to help you."
      ]
    },
    {
      "cell_type": "code",
      "execution_count": null,
      "metadata": {
        "id": "73N07VC7_BUW"
      },
      "outputs": [],
      "source": [
        "# Write your solution here..."
      ]
    },
    {
      "cell_type": "markdown",
      "metadata": {
        "id": "VIyLylLQDEl4"
      },
      "source": [
        "## Exercise 9 - Creating a 3D image\n",
        "\n",
        "Using your DICOM slices Python list from the previous exercise, combine all of the data from the slices into a 3D set of images, contained within a NumPy array.\n",
        "\n",
        "Make sure you window each of the DICOM between 0-255 using your windowing function from Exercise 6 before adding it.\n",
        "\n",
        "Print the shape of your array to check it is correct. It should have a final NumPy array shape of:\n",
        "\n",
        "`(276, 256, 256)`\n",
        "\n",
        "Use the explanation of **list comprehension** below to help you and [this documentation](https://numpy.org/doc/stable/reference/generated/numpy.array.html) for list conversion.\n",
        "\n",
        "**List Comprehension**\n",
        "\n",
        "List comprehension is a common Python technique that can be used to easily perform operations on every element in a list without using a formal `for` loop. An example is given below:"
      ]
    },
    {
      "cell_type": "code",
      "execution_count": null,
      "metadata": {
        "id": "QlBx2pr6qIQj"
      },
      "outputs": [],
      "source": [
        "str_lst = [\"The\", \"quick\", \"brown\", \"fox\", \"jumps\", \"over\", \"the\", \"lazy\", \"dog\"]\n",
        "\n",
        "swapped_lst = [x.swapcase() for x in str_lst] # Get a list of word lengths\n",
        "\n",
        "print(swapped_lst)"
      ]
    },
    {
      "cell_type": "markdown",
      "metadata": {
        "id": "EMDejXneqU9b"
      },
      "source": [
        "This can be used to extract **only the `pixel_array` data** from each of the DICOM files in your sorted list of DICOM files."
      ]
    },
    {
      "cell_type": "code",
      "execution_count": null,
      "metadata": {
        "id": "UR72v1B0Dl1O"
      },
      "outputs": [],
      "source": [
        "# Write your solution here..."
      ]
    },
    {
      "cell_type": "markdown",
      "metadata": {
        "id": "k7aK-0vvEsC6"
      },
      "source": [
        "## Exercise 10 - Slicing a 3D volume\n",
        "\n",
        "We now have stacked multiple 2D images of **pixels** to create a 3D volume of **voxels**. This can be thought of as a cube of numbers, which can then be sliced to create different images.\n",
        "\n",
        "Use NumPy array slicing to create coronal, sagittal, and axial slices from our constructed MR scan. Use your windowing function to display the images.\n",
        "\n",
        "When using the windowing function, for each of the images:\n",
        "\n",
        "1. Use the maximum value in the image as the `WindowWidth`\n",
        "2. Use half the maximum value in the image as the `WindowCenter`\n",
        "\n",
        "This is because **each of the axial slices has different window settings**, and we would like to display everything between the top and bottom value in the image without \"clipping\" any values to 0.\n",
        "\n"
      ]
    },
    {
      "cell_type": "code",
      "execution_count": null,
      "metadata": {
        "id": "qy2iA83Tr-J6"
      },
      "outputs": [],
      "source": [
        "# Write your solution here..."
      ]
    },
    {
      "cell_type": "markdown",
      "metadata": {
        "id": "xkAltQT4EwS7"
      },
      "source": [
        "## Exercise 11 - Voxel dimensions\n",
        "\n",
        "You may have noticed that the axial images look undistorted, but there is a **significant amount of distortion** in the coronal and sagittal images that we have created, where the **images appear \"stretched\".**\n",
        "\n",
        "Use `PixelSpacing` and `Slice Location` attributes for the example DICOM to work out why this may be, and provide some numbers to support your reasoning. Refer back to the seminar for potential causes of this effect."
      ]
    },
    {
      "cell_type": "code",
      "execution_count": null,
      "metadata": {
        "id": "ajgACHhfzFFP"
      },
      "outputs": [],
      "source": [
        "# Write your solution here..."
      ]
    },
    {
      "cell_type": "markdown",
      "metadata": {
        "id": "TPnqf8v6Fwa8"
      },
      "source": [
        "## Exercise 12 - Maximum intensity projection"
      ]
    },
    {
      "cell_type": "markdown",
      "metadata": {
        "id": "1-fjk-r11CYT"
      },
      "source": [
        "If we \"look through\" the 3D volume and save only the highest value in a certain dimension, we can create a **maximum intensity projection (MIP)** image. Refer back to the seminar for details about the uses for these images.\n",
        "\n",
        "[Use NumPy's `np.max()` method](https://numpy.org/doc/2.2/reference/generated/numpy.max.html) with the `axis` argument to create an axial MIP image from your 3D MR data. After this, as in Exercise 8, window the image based on the maximum value in the whole image.\n",
        "\n",
        "Following this, modify the `axis` argument to create coronal and sagittal images to develop an intuition for what this argument does.\n",
        "\n",
        "Use the `shape` attribute as you work to keep track of the dimension of the images that you create."
      ]
    },
    {
      "cell_type": "code",
      "execution_count": null,
      "metadata": {
        "id": "mznLSHiK1CLx"
      },
      "outputs": [],
      "source": [
        "# Write your solution here..."
      ]
    },
    {
      "cell_type": "markdown",
      "metadata": {
        "id": "YP4oM3sv2iuC"
      },
      "source": [
        "# Conclusion\n",
        "\n",
        "**Thank you very much for completing Module 3's workbook.** We hope that you enjoyed working through the exercises and gaining more exposure to more advanced NumPy and Python techniques.\n",
        "\n",
        "Please let us know if you have any feedback about the workshop or about this module in general."
      ]
    }
  ],
  "metadata": {
    "colab": {
      "provenance": []
    },
    "kernelspec": {
      "display_name": "Python 3 (ipykernel)",
      "language": "python",
      "name": "python3"
    },
    "language_info": {
      "codemirror_mode": {
        "name": "ipython",
        "version": 3
      },
      "file_extension": ".py",
      "mimetype": "text/x-python",
      "name": "python",
      "nbconvert_exporter": "python",
      "pygments_lexer": "ipython3",
      "version": "3.12.7"
    }
  },
  "nbformat": 4,
  "nbformat_minor": 0
}
